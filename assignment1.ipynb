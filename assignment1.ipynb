{
 "cells": [
  {
   "cell_type": "code",
   "execution_count": 67,
   "metadata": {},
   "outputs": [],
   "source": [
    "import nltk\n",
    "import string\n",
    "\n",
    "# used for looping through folders/files\n",
    "from os import listdir\n",
    "from os.path import isfile, join\n",
    "\n",
    "#Calc tfidf and cosine similarity\n",
    "from sklearn.feature_extraction.text import TfidfVectorizer\n",
    "from sklearn.metrics.pairwise import cosine_similarity"
   ]
  },
  {
   "cell_type": "code",
   "execution_count": 68,
   "metadata": {},
   "outputs": [],
   "source": [
    "# All text entries to compare will appear here\n",
    "BASE_INPUT_DIR = \"./training/\""
   ]
  },
  {
   "cell_type": "markdown",
   "metadata": {},
   "source": [
    "## Preprocess Data"
   ]
  },
  {
   "cell_type": "markdown",
   "metadata": {},
   "source": [
    "#### File information"
   ]
  },
  {
   "cell_type": "code",
   "execution_count": 69,
   "metadata": {},
   "outputs": [
    {
     "name": "stdout",
     "output_type": "stream",
     "text": [
      "['10ten.txt', '1one.txt', '2two.txt', '3three.txt', '4four.txt', '5five.txt', '6six.txt', '7seven.txt', '8eight.txt', '9nine.txt'] \n",
      " ['./training/10ten.txt', './training/1one.txt', './training/2two.txt', './training/3three.txt', './training/4four.txt', './training/5five.txt', './training/6six.txt', './training/7seven.txt', './training/8eight.txt', './training/9nine.txt']\n"
     ]
    }
   ],
   "source": [
    "def returnListOfFilePaths(folderPath):\n",
    "    fileInfo = []\n",
    "    listOfFileNames = [fileName for fileName in listdir(folderPath) if isfile(join(folderPath, fileName))]\n",
    "    listOfFilePaths = [join(folderPath, fileName) for fileName in listdir(folderPath) if isfile(join(folderPath, fileName))]\n",
    "    fileInfo.append(listOfFileNames)\n",
    "    fileInfo.append(listOfFilePaths)\n",
    "    return fileInfo\n",
    "\n",
    "fileNames, filePaths = returnListOfFilePaths(BASE_INPUT_DIR)\n",
    "print(fileNames, \"\\n\", filePaths)"
   ]
  },
  {
   "cell_type": "code",
   "execution_count": 70,
   "metadata": {},
   "outputs": [
    {
     "name": "stdout",
     "output_type": "stream",
     "text": [
      "{'./training/10ten.txt': \"HIS LIFE\\n\\n\\nThe few events in the long life of Izaak Walton have been carefully\\ninvestigated by Sir Harris Nicolas.  All that can be extricated from\\ndocuments by the alchemy of research has been selected, and I am unaware\\nof any important acquisitions since Sir Harris Nicolas's second edition\\nof 1860.  Izaak was of an old family of Staffordshire yeomen, probably\\ndescendants of George Walton of Yoxhall, who died in 1571.  Izaak's\\nfather was Jarvis Walton, who died in February 1595-6; of Izaak's mother\\nnothing is known.  Izaak himself was born at Stafford, on August 9, 1593,\\nand was baptized on September 21.  He died on December 15, 1683, having\\nlived in the reigns of Elizabeth, James I., Charles I., under the\\nCommonwealth, and under Charles II.  The anxious and changeful age\\nthrough which he passed is in contrast with his very pacific character\\nand tranquil pursuits.\\n\\n\", './training/1one.txt': 'Washington, Dec. 24th, 1848.\\n\\nMy dear father:--\\n\\nYour letter of the 7th was received night before last. I very\\ncheerfully send you the twenty dollars, which sum you say is\\nnecessary to save your land from sale. It is singular that you\\nshould have forgotten a judgment against you; and it is more\\nsingular that the plaintiff should have let you forget it so long,\\nparticularly as I suppose you have always had property enough to\\nsatisfy a judgment of that amount. Before you pay it, it would be\\nwell to be sure you have not paid it; or, at least, that you can\\nnot prove you have paid it. Give my love to Mother, and all the\\nconnections.\\n\\nAffectionately your son,\\n\\nA. LINCOLN.\\n\\n\\n', './training/2two.txt': '\\nLincoln\\'s First Inaugural Address\\nMarch 4, 1861\\n\\n\\n\\nFellow citizens of the United States:  in compliance with a custom as old\\nas the government itself, I appear before you to address you briefly\\nand to take, in your presence, the oath prescribed by the Constitution\\nof the United States, to be taken by the President \"before he enters\\non the execution of his office.\"\\n\\nI do not consider it necessary, at present, for me to discuss those matters\\nof administration about which there is no special anxiety, or excitement.\\n\\n', './training/3three.txt': \"Lincoln's Gettysburg Address, given November 19, 1863\\non the battlefield near Gettysburg, Pennsylvania, USA\\n\\nIt is for us the living, rather, to be dedicated here to the unfinished\\nwork which they who fought here have thus far so nobly advanced.\\nIt is rather for us to be here dedicated to the great task remaining\\nbefore us. . .that from these honored dead we take increased devotion\\nto that cause for which they gave the last full measure of devotion. . .\\nthat we here highly resolve that these dead shall not have died in vain. . .\\nthat this nation, under God, shall have a new birth of freedom. . .\\nand that government of the people. . .by the people. . .for the people. . .\\nshall not perish from this earth.\\n\\n\\n\", './training/4four.txt': \"THE LAST SPEECH.\\n\\nThis address, the longest of the presidential period with the exception\\nof the First Inaugural, was delivered before a great crowd gathered in\\nfront of the White House, four days before Lincoln's assassination.\\nThe evening before, on a similar occasion, he had requested the people\\nto wait until he could prepare his remarks, adding that he wished to be\\ncareful, as everything he said got into print.  The newspaper reports\\nof the following day state that it was received with great enthusiasm.\\nThe address is of special interest as indicating the attitude of the\\nPresident toward the difficult question of Reconstruction.\\n\", './training/5five.txt': 'INTRODUCTION\\n\\n\\nNo man since Washington has become to Americans so familiar or so\\nbeloved a figure as Abraham Lincoln. He is to them the representative\\nand typical American, the man who best embodies the political ideals of\\nthe nation. He is typical in the fact that he sprang from the masses of\\nthe people, that he remained through his whole career a man of the\\npeople, that his chief desire was to be in accord with the beliefs and\\nwishes of the people, that he never failed to trust in the people and to\\nrely on their support. Every native American knows his life and his\\nspeeches. His anecdotes and witticisms have passed into the thought and\\nthe conversation of the whole nation as those of no other statesman have\\ndone.\\n\\n\\n', './training/6six.txt': \"\\nA Collection of Ballads\\n\\n\\nSo far the Editor had written, when news came of Professor Child's\\nregretted death.  He had lived to finish, it is said, the vast\\ncollection of all known traditional Scottish and English Ballads,\\nwith all accessible variants, a work of great labour and research,\\nand a distinguished honour to American scholarship.  We are not\\ntold, however, that he had written a general study of the topic,\\nwith his conclusions as to the evolution and diffusion of the\\nBallads:  as to the influences which directed the selection of\\ncertain themes of Marchen for poetic treatment, and the processes\\nby which identical ballads were distributed throughout Europe.  No\\none, it is to be feared, is left, in Europe at least, whose\\nknowledge of the subject is so wide and scientific as that of\\nProfessor Child.  It is to be hoped that some pupil of his may\\ncomplete the task in his sense, if, indeed, he has left it\\nunfinished.\\n\\n\\n\\n\\n\\n\\n\", './training/7seven.txt': 'PREFACE\\n\\n\\nNorman Leslie of Pitcullo, whose narrative the reader has in his hands,\\nrefers more than once to his unfinished Latin Chronicle.  That work,\\nusually known as \"The Book of Pluscarden,\" has been edited by Mr. Felix\\nSkene, in the series of \"Historians of Scotland\" (vol. vii.).  To Mr.\\nSkene\\'s introduction and notes the curious are referred.  Here it may\\nsuffice to say that the original MS. of the Latin Chronicle is lost; that\\nof six known manuscript copies none is older than 1480; that two of these\\ncopies contain a Prologue; and that the Prologue tells us all that has\\nhitherto been known about the author.\\n\\n\\n', './training/8eight.txt': 'In an age of reminiscences, is there room for the confessions of a\\nveteran, who remembers a great deal about books and very little about\\npeople?  I have often wondered that a _Biographia Literaria_ has so\\nseldom been attempted--a biography or autobiography of a man in his\\nrelations with other minds.  Coleridge, to be sure, gave this name to a\\nwork of his, but he wandered from his apparent purpose into a world of\\nalien disquisitions.  The following pages are frankly bookish, and to the\\nbookish only do they appeal.  The habit of reading has been praised as a\\nvirtue, and has been denounced as a vice.  In no case, if we except the\\nperpetual study of newspapers (which cannot fairly be called reading), is\\nthe vice, or the virtue, common.  It is more innocent than opium-eating,\\nthough, like opium-eating, it unlocks to us artificial paradises.  I try\\nto say what I have found in books, what distractions from the world, what\\nteaching (not much), and what consolations.\\n\\n\\n\\n', './training/9nine.txt': '\\nALFRED TENNYSON\\n\\nby Andrew Lang\\n\\n\\nINTRODUCTION\\n\\n\\n\\nIn writing this brief sketch of the Life of Tennyson, and this\\nattempt to appreciate his work, I have rested almost entirely on the\\nBiography by Lord Tennyson (with his kind permission) and on the text\\nof the Poems.  As to the Life, doubtless current anecdotes, not given\\nin the Biography, are known to me, and to most people.  But as they\\nmust also be familiar to the author of the Biography, I have not\\nthought it desirable to include what he rejected.  The works of the\\n\"localisers\" I have not read:  Tennyson disliked these researches, as\\na rule, and they appear to be unessential, and often hazardous.  The\\nprofessed commentators I have not consulted.  It appeared better to\\ngive one\\'s own impressions of the Poems, unaffected by the\\nimpressions of others, except in one or two cases where matters of\\nfact rather than of taste seemed to be in question.  Thus on two or\\nthree points I have ventured to differ from a distinguished living\\ncritic, and have given the reasons for my dissent.  Professor\\nBradley\\'s Commentary on In Memoriam {1} came out after this sketch\\nwas in print.  Many of the comments cited by Mr Bradley from his\\npredecessors appear to justify my neglect of these curious inquirers.\\nThe \"difficulties\" which they raise are not likely, as a rule, to\\npresent themselves to persons who read poetry \"for human pleasure.\"\\n\\n'}\n"
     ]
    }
   ],
   "source": [
    "# Get document contents\n",
    "def create_docContentDict(filePaths):\n",
    "    rawContentDict = {}\n",
    "    for filePath in filePaths:\n",
    "        with open(filePath, \"r\") as ifile:\n",
    "            fileContent = ifile.read()\n",
    "        rawContentDict[filePath] = fileContent\n",
    "    return rawContentDict\n",
    "rawContentDict = create_docContentDict(filePaths)\n",
    "print(rawContentDict)"
   ]
  },
  {
   "cell_type": "markdown",
   "metadata": {},
   "source": [
    "## Create Custom tokenizer"
   ]
  },
  {
   "cell_type": "markdown",
   "metadata": {},
   "source": [
    "### Define functions to use within the tokenizer\n",
    "We'd like to;\n",
    "- tokenize the input\n",
    "- remove stop words\n",
    "- perform stemming\n",
    "- remove punctuation\n",
    "- convert input to lowercase"
   ]
  },
  {
   "cell_type": "markdown",
   "metadata": {},
   "source": [
    "#### Tokenize"
   ]
  },
  {
   "cell_type": "code",
   "execution_count": 71,
   "metadata": {},
   "outputs": [],
   "source": [
    "def tokenizeContent(contentsRaw):\n",
    "    tokenized = nltk.tokenize.word_tokenize(contentsRaw)\n",
    "    return tokenized"
   ]
  },
  {
   "cell_type": "markdown",
   "metadata": {},
   "source": [
    "#### Remove Stop words"
   ]
  },
  {
   "cell_type": "code",
   "execution_count": 72,
   "metadata": {},
   "outputs": [],
   "source": [
    "def removeStopWordsFromTokenized(contentsTokenized):\n",
    "    stop_word_set = set(nltk.corpus.stopwords.words(\"english\"))\n",
    "    filteredContents = [word for word in contentsTokenized if word not in stop_word_set]\n",
    "    return filteredContents"
   ]
  },
  {
   "cell_type": "markdown",
   "metadata": {},
   "source": [
    "#### Stemming"
   ]
  },
  {
   "cell_type": "code",
   "execution_count": 73,
   "metadata": {},
   "outputs": [],
   "source": [
    "def performPorterStemmingOnContents(contentsTokenized):\n",
    "    porterStemmer = nltk.stem.PorterStemmer()\n",
    "    filteredContents = [porterStemmer.stem(word) for word in contentsTokenized]\n",
    "    return filteredContents"
   ]
  },
  {
   "cell_type": "markdown",
   "metadata": {},
   "source": [
    "#### Remove Punctuation"
   ]
  },
  {
   "cell_type": "code",
   "execution_count": 74,
   "metadata": {},
   "outputs": [],
   "source": [
    "def removePunctuationFromTokenized(contentsTokenized):\n",
    "    excludePuncuation = set(string.punctuation)\n",
    "    \n",
    "    # manually add additional punctuation to remove\n",
    "    doubleSingleQuote = '\\'\\''\n",
    "    doubleDash = '--'\n",
    "    doubleTick = '``'\n",
    "\n",
    "    excludePuncuation.add(doubleSingleQuote)\n",
    "    excludePuncuation.add(doubleDash)\n",
    "    excludePuncuation.add(doubleTick)\n",
    "\n",
    "    filteredContents = [word for word in contentsTokenized if word not in excludePuncuation]\n",
    "    return filteredContents"
   ]
  },
  {
   "cell_type": "markdown",
   "metadata": {},
   "source": [
    "#### Convert terms to lowercase"
   ]
  },
  {
   "cell_type": "code",
   "execution_count": 75,
   "metadata": {},
   "outputs": [],
   "source": [
    "def convertItemsToLower(contentsRaw):\n",
    "    filteredContents = [term.lower() for term in contentsRaw]\n",
    "    return filteredContents"
   ]
  },
  {
   "cell_type": "markdown",
   "metadata": {},
   "source": [
    "### Test that functions are working as expected"
   ]
  },
  {
   "cell_type": "code",
   "execution_count": 76,
   "metadata": {},
   "outputs": [
    {
     "name": "stdout",
     "output_type": "stream",
     "text": [
      "HIS LIFE\n",
      "\n",
      "\n",
      "The few events in the long life of Izaak Walton have been carefully\n",
      "investigated by Sir Harris Nicolas.  All that can be extricated from\n",
      "documents by the alchemy of research has been selected, and I am unaware\n",
      "of any important acquisitions since Sir Harris Nicolas's second edition\n",
      "of 1860\n"
     ]
    }
   ],
   "source": [
    "# get contents of a file for testing\n",
    "# TODO: may need to make a copy of this here\n",
    "content_test = rawContentDict[filePaths[0]]\n",
    "\n",
    "# visually inspect\n",
    "print(content_test[:300])"
   ]
  },
  {
   "cell_type": "code",
   "execution_count": 77,
   "metadata": {},
   "outputs": [
    {
     "name": "stdout",
     "output_type": "stream",
     "text": [
      "['HIS', 'LIFE', 'The', 'few', 'events', 'in', 'the', 'long', 'life', 'of', 'Izaak', 'Walton', 'have', 'been', 'carefully', 'investigated', 'by', 'Sir', 'Harris', 'Nicolas', '.', 'All', 'that', 'can', 'be', 'extricated', 'from', 'documents', 'by', 'the']\n"
     ]
    }
   ],
   "source": [
    "# test tokenization\n",
    "content_test_tokenized = tokenizeContent(content_test)\n",
    "\n",
    "# visually inspect\n",
    "print(content_test_tokenized[:30])"
   ]
  },
  {
   "cell_type": "code",
   "execution_count": 89,
   "metadata": {},
   "outputs": [
    {
     "name": "stdout",
     "output_type": "stream",
     "text": [
      "['HIS', 'LIFE', 'The', 'events', 'long', 'life', 'Izaak', 'Walton', 'carefully', 'investigated', 'Sir', 'Harris', 'Nicolas', '.', 'All', 'extricated', 'documents', 'alchemy', 'research', 'selected', ',', 'I', 'unaware', 'important', 'acquisitions', 'since', 'Sir', 'Harris', 'Nicolas', \"'s\"]\n"
     ]
    }
   ],
   "source": [
    "# test remove stop words\n",
    "content_test_rmStop = removeStopWordsFromTokenized(content_test_tokenized)\n",
    "\n",
    "# visually inspect\n",
    "print(content_test_rmStop[:30])"
   ]
  },
  {
   "cell_type": "code",
   "execution_count": 79,
   "metadata": {},
   "outputs": [
    {
     "name": "stdout",
     "output_type": "stream",
     "text": [
      "['hi', 'life', 'the', 'event', 'long', 'life', 'izaak', 'walton', 'care', 'investig', 'sir', 'harri', 'nicola', '.', 'all', 'extric', 'document', 'alchemi', 'research', 'select', ',', 'I', 'unawar', 'import', 'acquisit', 'sinc', 'sir', 'harri', 'nicola', \"'s\"]\n"
     ]
    }
   ],
   "source": [
    "# Test stemming\n",
    "#content_test_stemmed = performPorterStemmingOnContents(content_test_rmStop)\n",
    "\n",
    "# visually inspect\n",
    "#print(content_test_stemmed[:30])"
   ]
  },
  {
   "cell_type": "code",
   "execution_count": 91,
   "metadata": {},
   "outputs": [
    {
     "name": "stdout",
     "output_type": "stream",
     "text": [
      "['HIS', 'LIFE', 'The', 'events', 'long', 'life', 'Izaak', 'Walton', 'carefully', 'investigated', 'Sir', 'Harris', 'Nicolas', 'All', 'extricated', 'documents', 'alchemy', 'research', 'selected', 'I', 'unaware', 'important', 'acquisitions', 'since', 'Sir', 'Harris', 'Nicolas', \"'s\", 'second', 'edition']\n"
     ]
    }
   ],
   "source": [
    "# Test remove punctuation\n",
    "content_test_cleaned = removePunctuationFromTokenized(content_test_rmStop)\n",
    "\n",
    "# visually inspect\n",
    "print(content_test_cleaned[:30])"
   ]
  },
  {
   "cell_type": "code",
   "execution_count": 92,
   "metadata": {},
   "outputs": [
    {
     "name": "stdout",
     "output_type": "stream",
     "text": [
      "['his', 'life', 'the', 'events', 'long', 'life', 'izaak', 'walton', 'carefully', 'investigated', 'sir', 'harris', 'nicolas', 'all', 'extricated', 'documents', 'alchemy', 'research', 'selected', 'i', 'unaware', 'important', 'acquisitions', 'since', 'sir', 'harris', 'nicolas', \"'s\", 'second', 'edition']\n"
     ]
    }
   ],
   "source": [
    "# Test convert to lower\n",
    "content_test_clean_lower = convertItemsToLower(content_test_cleaned)\n",
    "print(content_test_clean_lower[:30])"
   ]
  },
  {
   "cell_type": "markdown",
   "metadata": {},
   "source": [
    "### Wrap into a function to be used by NLTK"
   ]
  },
  {
   "cell_type": "code",
   "execution_count": 93,
   "metadata": {},
   "outputs": [],
   "source": [
    "# process data without writing inspection file information to file\n",
    "def processData(rawContents):\n",
    "    cleaned = tokenizeContent(rawContents)\n",
    "    cleaned = removeStopWordsFromTokenized(cleaned)\n",
    "    cleaned = performPorterStemmingOnContents(cleaned)    \n",
    "    cleaned = removePunctuationFromTokenized(cleaned)\n",
    "    cleaned = convertItemsToLower(cleaned)\n",
    "    return cleaned"
   ]
  },
  {
   "cell_type": "markdown",
   "metadata": {},
   "source": [
    "## Create Functions For Output\n",
    "- TFIDF\n",
    "- Cosine Similarity\n",
    "    - this function will both calcuate and output results"
   ]
  },
  {
   "cell_type": "code",
   "execution_count": 94,
   "metadata": {},
   "outputs": [],
   "source": [
    "# print TFIDF values in 'table' format\n",
    "def print_TFIDF_for_all(term, values, fileNames):\n",
    "    values = values.transpose() # files along 'x-axis', terms along 'y-axis'\n",
    "    numValues = len(values[0])\n",
    "    print('                ', end=\"\")   #bank space for formatting output\n",
    "    for n in range(len(fileNames)):\n",
    "        print('{0:18}'.format(fileNames[n]), end=\"\")    #file names\n",
    "    print()\n",
    "    for i in range(len(term)):\n",
    "        print('{0:8}'.format(term[i]), end='\\t|  ')     #the term\n",
    "        for j in range(numValues):\n",
    "            print('{0:.12f}'.format(values[i][j]), end='   ') #the value, corresponding to the file name, for the term\n",
    "        print()"
   ]
  },
  {
   "cell_type": "code",
   "execution_count": 95,
   "metadata": {},
   "outputs": [],
   "source": [
    "# write TFIDF values in 'table' format\n",
    "def write_TFIDF_for_all(term, values, fileNames):\n",
    "    filePath = \"../results/tfid.txt\"\n",
    "    outFile = open(filePath, 'a')\n",
    "    title = \"TFIDF\\n\"\n",
    "    outFile.write(title)\n",
    "    values = values.transpose() # files along 'x-axis', terms along 'y-axis'\n",
    "    numValues = len(values[0])\n",
    "    outFile.write('               \\t')   #bank space for formatting output\n",
    "    for n in range(len(fileNames)):\n",
    "        outFile.write('{0:18}'.format(fileNames[n]))    #file names\n",
    "    outFile.write(\"\\n\")\n",
    "    for i in range(len(term)):\n",
    "        outFile.write('{0:15}'.format(term[i]))     #the term\n",
    "        outFile.write('\\t|  ')\n",
    "        for j in range(numValues):\n",
    "            outFile.write('{0:.12f}'.format(values[i][j])) #the value, corresponding to the file name, for the term\n",
    "            outFile.write('   ')\n",
    "        outFile.write(\"\\n\")\n",
    "\n",
    "    outFile.close()"
   ]
  },
  {
   "cell_type": "code",
   "execution_count": 96,
   "metadata": {},
   "outputs": [],
   "source": [
    "# TODO: modify this to build matrix then print from matrix form\n",
    "def calc_and_print_CosineSimilarity_for_all(tfs, fileNames):\n",
    "    #print(cosine_similarity(tfs[0], tfs[1]))\n",
    "    print(\"\\n\\n\\n========COSINE SIMILARITY====================================================================\\n\")\n",
    "    numFiles = len(fileNames)\n",
    "    names = []\n",
    "    print('                   ', end=\"\")    #formatting\n",
    "    for i in range(numFiles):\n",
    "        if i == 0:\n",
    "            for k in range(numFiles):\n",
    "                print(fileNames[k], end='   ')\n",
    "            print()\n",
    "\n",
    "        print(fileNames[i], end='   ')\n",
    "        for n in range(numFiles):\n",
    "            #print(fileNames[n], end='\\t')\n",
    "            matrixValue = cosine_similarity(tfs[i], tfs[n])\n",
    "            numValue = matrixValue[0][0]\n",
    "            #print(numValue, end='\\t')\n",
    "            names.append(fileNames[n])\n",
    "            print(\" {0:.8f}\".format(numValue), end='         ')\n",
    "            #(cosine_similarity(tfs[i], tfs[n]))[0][0]\n",
    "\n",
    "        print()\n",
    "    print(\"\\n\\n=============================================================================================\\n\")"
   ]
  },
  {
   "cell_type": "code",
   "execution_count": 97,
   "metadata": {},
   "outputs": [],
   "source": [
    "def calc_and_write_CosineSimilarity_for_all(tfs, fileNames):\n",
    "    filePath = \"../results/cosine_similarity.txt\"\n",
    "    outFile = open(filePath, 'a')\n",
    "    title = \"COSINE SIMILARITY\\n\"\n",
    "    outFile.write(title)\n",
    "    numFiles = len(fileNames)\n",
    "    names = []\n",
    "    outFile.write('                   ')\n",
    "    for i in range(numFiles):\n",
    "        if i == 0:\n",
    "            for k in range(numFiles):\n",
    "                outFile.write(fileNames[k])\n",
    "                outFile.write('   ')\n",
    "            outFile.write(\"\\n\")\n",
    "        outFile.write(fileNames[i])\n",
    "        outFile.write('   ')\n",
    "\n",
    "        for n in range(numFiles):\n",
    "            matrixValue = cosine_similarity(tfs[i], tfs[n])\n",
    "            numValue = matrixValue[0][0]\n",
    "            names.append(fileNames[n])\n",
    "            outFile.write('{0:.8f}'.format(numValue))\n",
    "            outFile.write('         ')\n",
    "            #(cosine_similarity(tfs[i], tfs[n]))[0][0]\n",
    "\n",
    "        outFile.write(\"\\n\")\n",
    "\n",
    "    outFile.close()"
   ]
  },
  {
   "cell_type": "markdown",
   "metadata": {},
   "source": [
    "## Wrap Everything into `Main()`"
   ]
  },
  {
   "cell_type": "code",
   "execution_count": 98,
   "metadata": {},
   "outputs": [],
   "source": [
    "def main(printResults=True):\n",
    "    baseFolderPath = \"./training/\"\n",
    "\n",
    "    fileNames, filePathList = returnListOfFilePaths(baseFolderPath)\n",
    "\n",
    "    rawContentDict = create_docContentDict(filePathList)\n",
    "\n",
    "    # calculate tfidf\n",
    "    tfidf = TfidfVectorizer(tokenizer=processData, stop_words='english')\n",
    "    tfs = tfidf.fit_transform(rawContentDict.values())\n",
    "    tfs_Values = tfs.toarray()\n",
    "    tfs_Term = tfidf.get_feature_names()\n",
    "    \n",
    "    if printResults:\n",
    "        # print results\n",
    "        print_TFIDF_for_all(tfs_Term, tfs_Values, fileNames)\n",
    "        calc_and_print_CosineSimilarity_for_all(tfs, fileNames)\n",
    "    else:\n",
    "        # write results to file\n",
    "        write_TFIDF_for_all(tfs_Term, tfs_Values, fileNames)   \n",
    "        calc_and_write_CosineSimilarity_for_all(tfs, fileNames)"
   ]
  },
  {
   "cell_type": "code",
   "execution_count": 99,
   "metadata": {},
   "outputs": [
    {
     "name": "stderr",
     "output_type": "stream",
     "text": [
      "/Users/faniardelia/anaconda3/lib/python3.7/site-packages/sklearn/feature_extraction/text.py:300: UserWarning: Your stop_words may be inconsistent with your preprocessing. Tokenizing the stop words generated tokens ['afterward', 'alon', 'alreadi', 'alway', 'anoth', 'anyon', 'anyth', 'anywher', 'becam', 'becom', 'besid', 'cri', 'describ', 'els', 'elsewher', 'empti', 'everi', 'everyon', 'everyth', 'everywher', 'fifti', 'formerli', 'forti', 'henc', 'hereaft', 'herebi', 'howev', 'hundr', 'inde', 'latterli', 'mani', 'meanwhil', 'moreov', 'mostli', 'nobodi', 'noon', 'noth', 'nowher', 'otherwis', 'perhap', 'pleas', 'seriou', 'sever', 'sinc', 'sincer', 'sixti', 'someon', 'someth', 'sometim', 'somewher', 'thenc', 'thereaft', 'therebi', 'therefor', 'thu', 'togeth', 'twelv', 'twenti', 'whatev', 'whenc', 'whenev', 'wherea', 'whereaft', 'wherebi', 'wherev'] not in stop_words.\n",
      "  'stop_words.' % sorted(inconsistent))\n"
     ]
    },
    {
     "name": "stdout",
     "output_type": "stream",
     "text": [
      "                10ten.txt         1one.txt          2two.txt          3three.txt        4four.txt         5five.txt         6six.txt          7seven.txt        8eight.txt        9nine.txt         \n",
      "'s      \t|  0.102591663252   0.000000000000   0.087959889294   0.067286897574   0.082491998138   0.000000000000   0.000000000000   0.067566551444   0.000000000000   0.095684641768   \n",
      ".bi     \t|  0.000000000000   0.000000000000   0.000000000000   0.125341578829   0.000000000000   0.000000000000   0.000000000000   0.000000000000   0.000000000000   0.000000000000   \n",
      ".for    \t|  0.000000000000   0.000000000000   0.000000000000   0.125341578829   0.000000000000   0.000000000000   0.000000000000   0.000000000000   0.000000000000   0.000000000000   \n",
      ".that   \t|  0.000000000000   0.000000000000   0.000000000000   0.125341578829   0.000000000000   0.000000000000   0.000000000000   0.000000000000   0.000000000000   0.000000000000   \n",
      "1       \t|  0.000000000000   0.000000000000   0.000000000000   0.000000000000   0.000000000000   0.000000000000   0.000000000000   0.000000000000   0.000000000000   0.089120352560   \n",
      "1480    \t|  0.000000000000   0.000000000000   0.000000000000   0.000000000000   0.000000000000   0.000000000000   0.000000000000   0.125862516171   0.000000000000   0.000000000000   \n",
      "15      \t|  0.095553529070   0.000000000000   0.000000000000   0.000000000000   0.000000000000   0.000000000000   0.000000000000   0.000000000000   0.000000000000   0.000000000000   \n",
      "1571.   \t|  0.095553529070   0.000000000000   0.000000000000   0.000000000000   0.000000000000   0.000000000000   0.000000000000   0.000000000000   0.000000000000   0.000000000000   \n",
      "1593    \t|  0.095553529070   0.000000000000   0.000000000000   0.000000000000   0.000000000000   0.000000000000   0.000000000000   0.000000000000   0.000000000000   0.000000000000   \n",
      "1595-6  \t|  0.095553529070   0.000000000000   0.000000000000   0.000000000000   0.000000000000   0.000000000000   0.000000000000   0.000000000000   0.000000000000   0.000000000000   \n",
      "1683    \t|  0.095553529070   0.000000000000   0.000000000000   0.000000000000   0.000000000000   0.000000000000   0.000000000000   0.000000000000   0.000000000000   0.000000000000   \n",
      "1848.   \t|  0.000000000000   0.142909147931   0.000000000000   0.000000000000   0.000000000000   0.000000000000   0.000000000000   0.000000000000   0.000000000000   0.000000000000   \n",
      "1860.   \t|  0.095553529070   0.000000000000   0.000000000000   0.000000000000   0.000000000000   0.000000000000   0.000000000000   0.000000000000   0.000000000000   0.000000000000   \n",
      "1861    \t|  0.000000000000   0.000000000000   0.163851088328   0.000000000000   0.000000000000   0.000000000000   0.000000000000   0.000000000000   0.000000000000   0.000000000000   \n",
      "1863    \t|  0.000000000000   0.000000000000   0.000000000000   0.125341578829   0.000000000000   0.000000000000   0.000000000000   0.000000000000   0.000000000000   0.000000000000   \n",
      "19      \t|  0.000000000000   0.000000000000   0.000000000000   0.125341578829   0.000000000000   0.000000000000   0.000000000000   0.000000000000   0.000000000000   0.000000000000   \n",
      "21.     \t|  0.095553529070   0.000000000000   0.000000000000   0.000000000000   0.000000000000   0.000000000000   0.000000000000   0.000000000000   0.000000000000   0.000000000000   \n",
      "24th    \t|  0.000000000000   0.142909147931   0.000000000000   0.000000000000   0.000000000000   0.000000000000   0.000000000000   0.000000000000   0.000000000000   0.000000000000   \n",
      "4       \t|  0.000000000000   0.000000000000   0.163851088328   0.000000000000   0.000000000000   0.000000000000   0.000000000000   0.000000000000   0.000000000000   0.000000000000   \n",
      "7th     \t|  0.000000000000   0.142909147931   0.000000000000   0.000000000000   0.000000000000   0.000000000000   0.000000000000   0.000000000000   0.000000000000   0.000000000000   \n",
      "9       \t|  0.095553529070   0.000000000000   0.000000000000   0.000000000000   0.000000000000   0.000000000000   0.000000000000   0.000000000000   0.000000000000   0.000000000000   \n",
      "_biographia\t|  0.000000000000   0.000000000000   0.000000000000   0.000000000000   0.000000000000   0.000000000000   0.000000000000   0.000000000000   0.117503982517   0.000000000000   \n",
      "a.      \t|  0.000000000000   0.142909147931   0.000000000000   0.000000000000   0.000000000000   0.000000000000   0.000000000000   0.000000000000   0.000000000000   0.000000000000   \n",
      "abraham \t|  0.000000000000   0.000000000000   0.000000000000   0.000000000000   0.000000000000   0.129154899699   0.000000000000   0.000000000000   0.000000000000   0.000000000000   \n",
      "access  \t|  0.000000000000   0.000000000000   0.000000000000   0.000000000000   0.000000000000   0.000000000000   0.107556467389   0.000000000000   0.000000000000   0.000000000000   \n",
      "accord  \t|  0.000000000000   0.000000000000   0.000000000000   0.000000000000   0.000000000000   0.129154899699   0.000000000000   0.000000000000   0.000000000000   0.000000000000   \n",
      "acquisit\t|  0.095553529070   0.000000000000   0.000000000000   0.000000000000   0.000000000000   0.000000000000   0.000000000000   0.000000000000   0.000000000000   0.000000000000   \n",
      "ad      \t|  0.000000000000   0.000000000000   0.000000000000   0.000000000000   0.153665537573   0.000000000000   0.000000000000   0.000000000000   0.000000000000   0.000000000000   \n",
      "address \t|  0.000000000000   0.000000000000   0.243721771802   0.093220228149   0.228571182923   0.000000000000   0.000000000000   0.000000000000   0.000000000000   0.000000000000   \n",
      "administr\t|  0.000000000000   0.000000000000   0.163851088328   0.000000000000   0.000000000000   0.000000000000   0.000000000000   0.000000000000   0.000000000000   0.000000000000   \n",
      "advanc  \t|  0.000000000000   0.000000000000   0.000000000000   0.125341578829   0.000000000000   0.000000000000   0.000000000000   0.000000000000   0.000000000000   0.000000000000   \n",
      "affection\t|  0.000000000000   0.142909147931   0.000000000000   0.000000000000   0.000000000000   0.000000000000   0.000000000000   0.000000000000   0.000000000000   0.000000000000   \n",
      "age     \t|  0.081229229478   0.000000000000   0.000000000000   0.000000000000   0.000000000000   0.000000000000   0.000000000000   0.000000000000   0.099889120301   0.000000000000   \n",
      "alchemi \t|  0.095553529070   0.000000000000   0.000000000000   0.000000000000   0.000000000000   0.000000000000   0.000000000000   0.000000000000   0.000000000000   0.000000000000   \n",
      "alfr    \t|  0.000000000000   0.000000000000   0.000000000000   0.000000000000   0.000000000000   0.000000000000   0.000000000000   0.000000000000   0.000000000000   0.089120352560   \n",
      "alien   \t|  0.000000000000   0.000000000000   0.000000000000   0.000000000000   0.000000000000   0.000000000000   0.000000000000   0.000000000000   0.117503982517   0.000000000000   \n",
      "alway   \t|  0.000000000000   0.142909147931   0.000000000000   0.000000000000   0.000000000000   0.000000000000   0.000000000000   0.000000000000   0.000000000000   0.000000000000   \n",
      "american\t|  0.000000000000   0.000000000000   0.000000000000   0.000000000000   0.000000000000   0.329380392999   0.091432823637   0.000000000000   0.000000000000   0.000000000000   \n",
      "andrew  \t|  0.000000000000   0.000000000000   0.000000000000   0.000000000000   0.000000000000   0.000000000000   0.000000000000   0.000000000000   0.000000000000   0.089120352560   \n",
      "anecdot \t|  0.000000000000   0.000000000000   0.000000000000   0.000000000000   0.000000000000   0.109793464333   0.000000000000   0.000000000000   0.000000000000   0.075760441709   \n",
      "anxieti \t|  0.000000000000   0.000000000000   0.163851088328   0.000000000000   0.000000000000   0.000000000000   0.000000000000   0.000000000000   0.000000000000   0.000000000000   \n",
      "anxiou  \t|  0.095553529070   0.000000000000   0.000000000000   0.000000000000   0.000000000000   0.000000000000   0.000000000000   0.000000000000   0.000000000000   0.000000000000   \n",
      "appar   \t|  0.000000000000   0.000000000000   0.000000000000   0.000000000000   0.000000000000   0.000000000000   0.000000000000   0.000000000000   0.117503982517   0.000000000000   \n",
      "appeal  \t|  0.000000000000   0.000000000000   0.000000000000   0.000000000000   0.000000000000   0.000000000000   0.000000000000   0.000000000000   0.117503982517   0.000000000000   \n",
      "appear  \t|  0.000000000000   0.000000000000   0.139288394510   0.000000000000   0.000000000000   0.000000000000   0.000000000000   0.000000000000   0.000000000000   0.227281325127   \n",
      "appreci \t|  0.000000000000   0.000000000000   0.000000000000   0.000000000000   0.000000000000   0.000000000000   0.000000000000   0.000000000000   0.000000000000   0.089120352560   \n",
      "artifici\t|  0.000000000000   0.000000000000   0.000000000000   0.000000000000   0.000000000000   0.000000000000   0.000000000000   0.000000000000   0.117503982517   0.000000000000   \n",
      "assassin\t|  0.000000000000   0.000000000000   0.000000000000   0.000000000000   0.153665537573   0.000000000000   0.000000000000   0.000000000000   0.000000000000   0.000000000000   \n",
      "attempt \t|  0.000000000000   0.000000000000   0.000000000000   0.000000000000   0.000000000000   0.000000000000   0.000000000000   0.000000000000   0.099889120301   0.075760441709   \n",
      "attitud \t|  0.000000000000   0.000000000000   0.000000000000   0.000000000000   0.153665537573   0.000000000000   0.000000000000   0.000000000000   0.000000000000   0.000000000000   \n",
      "august  \t|  0.095553529070   0.000000000000   0.000000000000   0.000000000000   0.000000000000   0.000000000000   0.000000000000   0.000000000000   0.000000000000   0.000000000000   \n",
      "author  \t|  0.000000000000   0.000000000000   0.000000000000   0.000000000000   0.000000000000   0.000000000000   0.000000000000   0.106994637543   0.000000000000   0.075760441709   \n",
      "autobiographi\t|  0.000000000000   0.000000000000   0.000000000000   0.000000000000   0.000000000000   0.000000000000   0.000000000000   0.000000000000   0.117503982517   0.000000000000   \n",
      "ballad  \t|  0.000000000000   0.000000000000   0.000000000000   0.000000000000   0.000000000000   0.000000000000   0.430225869555   0.000000000000   0.000000000000   0.000000000000   \n",
      "baptiz  \t|  0.095553529070   0.000000000000   0.000000000000   0.000000000000   0.000000000000   0.000000000000   0.000000000000   0.000000000000   0.000000000000   0.000000000000   \n",
      "battlefield\t|  0.000000000000   0.000000000000   0.000000000000   0.125341578829   0.000000000000   0.000000000000   0.000000000000   0.000000000000   0.000000000000   0.000000000000   \n",
      "becom   \t|  0.000000000000   0.000000000000   0.000000000000   0.000000000000   0.000000000000   0.129154899699   0.000000000000   0.000000000000   0.000000000000   0.000000000000   \n",
      "belief  \t|  0.000000000000   0.000000000000   0.000000000000   0.000000000000   0.000000000000   0.129154899699   0.000000000000   0.000000000000   0.000000000000   0.000000000000   \n",
      "belov   \t|  0.000000000000   0.000000000000   0.000000000000   0.000000000000   0.000000000000   0.129154899699   0.000000000000   0.000000000000   0.000000000000   0.000000000000   \n",
      "best    \t|  0.000000000000   0.000000000000   0.000000000000   0.000000000000   0.000000000000   0.129154899699   0.000000000000   0.000000000000   0.000000000000   0.000000000000   \n",
      "better  \t|  0.000000000000   0.000000000000   0.000000000000   0.000000000000   0.000000000000   0.000000000000   0.000000000000   0.000000000000   0.000000000000   0.089120352560   \n",
      "biographi\t|  0.000000000000   0.000000000000   0.000000000000   0.000000000000   0.000000000000   0.000000000000   0.000000000000   0.000000000000   0.099889120301   0.227281325127   \n",
      "birth   \t|  0.000000000000   0.000000000000   0.000000000000   0.125341578829   0.000000000000   0.000000000000   0.000000000000   0.000000000000   0.000000000000   0.000000000000   \n",
      "book    \t|  0.000000000000   0.000000000000   0.000000000000   0.000000000000   0.000000000000   0.000000000000   0.000000000000   0.106994637543   0.199778240601   0.000000000000   \n",
      "bookish \t|  0.000000000000   0.000000000000   0.000000000000   0.000000000000   0.000000000000   0.000000000000   0.000000000000   0.000000000000   0.235007965034   0.000000000000   \n",
      "born    \t|  0.095553529070   0.000000000000   0.000000000000   0.000000000000   0.000000000000   0.000000000000   0.000000000000   0.000000000000   0.000000000000   0.000000000000   \n",
      "bradley \t|  0.000000000000   0.000000000000   0.000000000000   0.000000000000   0.000000000000   0.000000000000   0.000000000000   0.000000000000   0.000000000000   0.178240705119   \n",
      "brief   \t|  0.000000000000   0.000000000000   0.000000000000   0.000000000000   0.000000000000   0.000000000000   0.000000000000   0.000000000000   0.000000000000   0.089120352560   \n",
      "briefli \t|  0.000000000000   0.000000000000   0.163851088328   0.000000000000   0.000000000000   0.000000000000   0.000000000000   0.000000000000   0.000000000000   0.000000000000   \n",
      "came    \t|  0.000000000000   0.000000000000   0.000000000000   0.000000000000   0.000000000000   0.000000000000   0.091432823637   0.000000000000   0.000000000000   0.075760441709   \n",
      "care    \t|  0.081229229478   0.000000000000   0.000000000000   0.000000000000   0.130629745817   0.000000000000   0.000000000000   0.000000000000   0.000000000000   0.000000000000   \n",
      "career  \t|  0.000000000000   0.000000000000   0.000000000000   0.000000000000   0.000000000000   0.129154899699   0.000000000000   0.000000000000   0.000000000000   0.000000000000   \n",
      "case    \t|  0.000000000000   0.000000000000   0.000000000000   0.000000000000   0.000000000000   0.000000000000   0.000000000000   0.000000000000   0.099889120301   0.075760441709   \n",
      "caus    \t|  0.000000000000   0.000000000000   0.000000000000   0.125341578829   0.000000000000   0.000000000000   0.000000000000   0.000000000000   0.000000000000   0.000000000000   \n",
      "certain \t|  0.000000000000   0.000000000000   0.000000000000   0.000000000000   0.000000000000   0.000000000000   0.107556467389   0.000000000000   0.000000000000   0.000000000000   \n",
      "chang   \t|  0.095553529070   0.000000000000   0.000000000000   0.000000000000   0.000000000000   0.000000000000   0.000000000000   0.000000000000   0.000000000000   0.000000000000   \n",
      "charact \t|  0.095553529070   0.000000000000   0.000000000000   0.000000000000   0.000000000000   0.000000000000   0.000000000000   0.000000000000   0.000000000000   0.000000000000   \n",
      "charl   \t|  0.191107058140   0.000000000000   0.000000000000   0.000000000000   0.000000000000   0.000000000000   0.000000000000   0.000000000000   0.000000000000   0.000000000000   \n",
      "cheer   \t|  0.000000000000   0.142909147931   0.000000000000   0.000000000000   0.000000000000   0.000000000000   0.000000000000   0.000000000000   0.000000000000   0.000000000000   \n",
      "chief   \t|  0.000000000000   0.000000000000   0.000000000000   0.000000000000   0.000000000000   0.129154899699   0.000000000000   0.000000000000   0.000000000000   0.000000000000   \n",
      "child   \t|  0.000000000000   0.000000000000   0.000000000000   0.000000000000   0.000000000000   0.000000000000   0.107556467389   0.000000000000   0.000000000000   0.000000000000   \n",
      "child'  \t|  0.000000000000   0.000000000000   0.000000000000   0.000000000000   0.000000000000   0.000000000000   0.107556467389   0.000000000000   0.000000000000   0.000000000000   \n",
      "chronicl\t|  0.000000000000   0.000000000000   0.000000000000   0.000000000000   0.000000000000   0.000000000000   0.000000000000   0.251725032343   0.000000000000   0.000000000000   \n",
      "cite    \t|  0.000000000000   0.000000000000   0.000000000000   0.000000000000   0.000000000000   0.000000000000   0.000000000000   0.000000000000   0.000000000000   0.089120352560   \n",
      "citizen \t|  0.000000000000   0.000000000000   0.163851088328   0.000000000000   0.000000000000   0.000000000000   0.000000000000   0.000000000000   0.000000000000   0.000000000000   \n",
      "coleridg\t|  0.000000000000   0.000000000000   0.000000000000   0.000000000000   0.000000000000   0.000000000000   0.000000000000   0.000000000000   0.117503982517   0.000000000000   \n",
      "collect \t|  0.000000000000   0.000000000000   0.000000000000   0.000000000000   0.000000000000   0.000000000000   0.215112934778   0.000000000000   0.000000000000   0.000000000000   \n",
      "comment \t|  0.000000000000   0.000000000000   0.000000000000   0.000000000000   0.000000000000   0.000000000000   0.000000000000   0.000000000000   0.000000000000   0.178240705119   \n",
      "commentari\t|  0.000000000000   0.000000000000   0.000000000000   0.000000000000   0.000000000000   0.000000000000   0.000000000000   0.000000000000   0.000000000000   0.089120352560   \n",
      "common  \t|  0.000000000000   0.000000000000   0.000000000000   0.000000000000   0.000000000000   0.000000000000   0.000000000000   0.000000000000   0.117503982517   0.000000000000   \n",
      "commonwealth\t|  0.095553529070   0.000000000000   0.000000000000   0.000000000000   0.000000000000   0.000000000000   0.000000000000   0.000000000000   0.000000000000   0.000000000000   \n",
      "complet \t|  0.000000000000   0.000000000000   0.000000000000   0.000000000000   0.000000000000   0.000000000000   0.107556467389   0.000000000000   0.000000000000   0.000000000000   \n",
      "complianc\t|  0.000000000000   0.000000000000   0.163851088328   0.000000000000   0.000000000000   0.000000000000   0.000000000000   0.000000000000   0.000000000000   0.000000000000   \n",
      "conclus \t|  0.000000000000   0.000000000000   0.000000000000   0.000000000000   0.000000000000   0.000000000000   0.107556467389   0.000000000000   0.000000000000   0.000000000000   \n",
      "confess \t|  0.000000000000   0.000000000000   0.000000000000   0.000000000000   0.000000000000   0.000000000000   0.000000000000   0.000000000000   0.117503982517   0.000000000000   \n",
      "connect \t|  0.000000000000   0.142909147931   0.000000000000   0.000000000000   0.000000000000   0.000000000000   0.000000000000   0.000000000000   0.000000000000   0.000000000000   \n",
      "consid  \t|  0.000000000000   0.000000000000   0.163851088328   0.000000000000   0.000000000000   0.000000000000   0.000000000000   0.000000000000   0.000000000000   0.000000000000   \n",
      "consol  \t|  0.000000000000   0.000000000000   0.000000000000   0.000000000000   0.000000000000   0.000000000000   0.000000000000   0.000000000000   0.117503982517   0.000000000000   \n",
      "constitut\t|  0.000000000000   0.000000000000   0.163851088328   0.000000000000   0.000000000000   0.000000000000   0.000000000000   0.000000000000   0.000000000000   0.000000000000   \n",
      "consult \t|  0.000000000000   0.000000000000   0.000000000000   0.000000000000   0.000000000000   0.000000000000   0.000000000000   0.000000000000   0.000000000000   0.089120352560   \n",
      "contain \t|  0.000000000000   0.000000000000   0.000000000000   0.000000000000   0.000000000000   0.000000000000   0.000000000000   0.125862516171   0.000000000000   0.000000000000   \n",
      "contrast\t|  0.095553529070   0.000000000000   0.000000000000   0.000000000000   0.000000000000   0.000000000000   0.000000000000   0.000000000000   0.000000000000   0.000000000000   \n",
      "convers \t|  0.000000000000   0.000000000000   0.000000000000   0.000000000000   0.000000000000   0.129154899699   0.000000000000   0.000000000000   0.000000000000   0.000000000000   \n",
      "copi    \t|  0.000000000000   0.000000000000   0.000000000000   0.000000000000   0.000000000000   0.000000000000   0.000000000000   0.251725032343   0.000000000000   0.000000000000   \n",
      "critic  \t|  0.000000000000   0.000000000000   0.000000000000   0.000000000000   0.000000000000   0.000000000000   0.000000000000   0.000000000000   0.000000000000   0.089120352560   \n",
      "crowd   \t|  0.000000000000   0.000000000000   0.000000000000   0.000000000000   0.153665537573   0.000000000000   0.000000000000   0.000000000000   0.000000000000   0.000000000000   \n",
      "curiou  \t|  0.000000000000   0.000000000000   0.000000000000   0.000000000000   0.000000000000   0.000000000000   0.000000000000   0.106994637543   0.000000000000   0.075760441709   \n",
      "current \t|  0.000000000000   0.000000000000   0.000000000000   0.000000000000   0.000000000000   0.000000000000   0.000000000000   0.000000000000   0.000000000000   0.089120352560   \n",
      "custom  \t|  0.000000000000   0.000000000000   0.163851088328   0.000000000000   0.000000000000   0.000000000000   0.000000000000   0.000000000000   0.000000000000   0.000000000000   \n",
      "day     \t|  0.000000000000   0.000000000000   0.000000000000   0.000000000000   0.307331075146   0.000000000000   0.000000000000   0.000000000000   0.000000000000   0.000000000000   \n",
      "dead    \t|  0.000000000000   0.000000000000   0.000000000000   0.250683157657   0.000000000000   0.000000000000   0.000000000000   0.000000000000   0.000000000000   0.000000000000   \n",
      "deal    \t|  0.000000000000   0.000000000000   0.000000000000   0.000000000000   0.000000000000   0.000000000000   0.000000000000   0.000000000000   0.117503982517   0.000000000000   \n",
      "dear    \t|  0.000000000000   0.142909147931   0.000000000000   0.000000000000   0.000000000000   0.000000000000   0.000000000000   0.000000000000   0.000000000000   0.000000000000   \n",
      "death   \t|  0.000000000000   0.000000000000   0.000000000000   0.000000000000   0.000000000000   0.000000000000   0.107556467389   0.000000000000   0.000000000000   0.000000000000   \n",
      "dec.    \t|  0.000000000000   0.142909147931   0.000000000000   0.000000000000   0.000000000000   0.000000000000   0.000000000000   0.000000000000   0.000000000000   0.000000000000   \n",
      "decemb  \t|  0.095553529070   0.000000000000   0.000000000000   0.000000000000   0.000000000000   0.000000000000   0.000000000000   0.000000000000   0.000000000000   0.000000000000   \n",
      "dedic   \t|  0.000000000000   0.000000000000   0.000000000000   0.250683157657   0.000000000000   0.000000000000   0.000000000000   0.000000000000   0.000000000000   0.000000000000   \n",
      "deliv   \t|  0.000000000000   0.000000000000   0.000000000000   0.000000000000   0.153665537573   0.000000000000   0.000000000000   0.000000000000   0.000000000000   0.000000000000   \n",
      "denounc \t|  0.000000000000   0.000000000000   0.000000000000   0.000000000000   0.000000000000   0.000000000000   0.000000000000   0.000000000000   0.117503982517   0.000000000000   \n",
      "descend \t|  0.095553529070   0.000000000000   0.000000000000   0.000000000000   0.000000000000   0.000000000000   0.000000000000   0.000000000000   0.000000000000   0.000000000000   \n",
      "desir   \t|  0.000000000000   0.000000000000   0.000000000000   0.000000000000   0.000000000000   0.109793464333   0.000000000000   0.000000000000   0.000000000000   0.075760441709   \n",
      "devot   \t|  0.000000000000   0.000000000000   0.000000000000   0.250683157657   0.000000000000   0.000000000000   0.000000000000   0.000000000000   0.000000000000   0.000000000000   \n",
      "die     \t|  0.243687688434   0.000000000000   0.000000000000   0.106551793208   0.000000000000   0.000000000000   0.000000000000   0.000000000000   0.000000000000   0.000000000000   \n",
      "differ  \t|  0.000000000000   0.000000000000   0.000000000000   0.000000000000   0.000000000000   0.000000000000   0.000000000000   0.000000000000   0.000000000000   0.089120352560   \n",
      "difficult\t|  0.000000000000   0.000000000000   0.000000000000   0.000000000000   0.153665537573   0.000000000000   0.000000000000   0.000000000000   0.000000000000   0.000000000000   \n",
      "difficulti\t|  0.000000000000   0.000000000000   0.000000000000   0.000000000000   0.000000000000   0.000000000000   0.000000000000   0.000000000000   0.000000000000   0.089120352560   \n",
      "diffus  \t|  0.000000000000   0.000000000000   0.000000000000   0.000000000000   0.000000000000   0.000000000000   0.107556467389   0.000000000000   0.000000000000   0.000000000000   \n",
      "direct  \t|  0.000000000000   0.000000000000   0.000000000000   0.000000000000   0.000000000000   0.000000000000   0.107556467389   0.000000000000   0.000000000000   0.000000000000   \n",
      "discuss \t|  0.000000000000   0.000000000000   0.163851088328   0.000000000000   0.000000000000   0.000000000000   0.000000000000   0.000000000000   0.000000000000   0.000000000000   \n",
      "dislik  \t|  0.000000000000   0.000000000000   0.000000000000   0.000000000000   0.000000000000   0.000000000000   0.000000000000   0.000000000000   0.000000000000   0.089120352560   \n",
      "disquisit\t|  0.000000000000   0.000000000000   0.000000000000   0.000000000000   0.000000000000   0.000000000000   0.000000000000   0.000000000000   0.117503982517   0.000000000000   \n",
      "dissent \t|  0.000000000000   0.000000000000   0.000000000000   0.000000000000   0.000000000000   0.000000000000   0.000000000000   0.000000000000   0.000000000000   0.089120352560   \n",
      "distinguish\t|  0.000000000000   0.000000000000   0.000000000000   0.000000000000   0.000000000000   0.000000000000   0.091432823637   0.000000000000   0.000000000000   0.075760441709   \n",
      "distract\t|  0.000000000000   0.000000000000   0.000000000000   0.000000000000   0.000000000000   0.000000000000   0.000000000000   0.000000000000   0.117503982517   0.000000000000   \n",
      "distribut\t|  0.000000000000   0.000000000000   0.000000000000   0.000000000000   0.000000000000   0.000000000000   0.107556467389   0.000000000000   0.000000000000   0.000000000000   \n",
      "document\t|  0.095553529070   0.000000000000   0.000000000000   0.000000000000   0.000000000000   0.000000000000   0.000000000000   0.000000000000   0.000000000000   0.000000000000   \n",
      "dollar  \t|  0.000000000000   0.142909147931   0.000000000000   0.000000000000   0.000000000000   0.000000000000   0.000000000000   0.000000000000   0.000000000000   0.000000000000   \n",
      "doubtless\t|  0.000000000000   0.000000000000   0.000000000000   0.000000000000   0.000000000000   0.000000000000   0.000000000000   0.000000000000   0.000000000000   0.089120352560   \n",
      "earth   \t|  0.000000000000   0.000000000000   0.000000000000   0.125341578829   0.000000000000   0.000000000000   0.000000000000   0.000000000000   0.000000000000   0.000000000000   \n",
      "edit    \t|  0.081229229478   0.000000000000   0.000000000000   0.000000000000   0.000000000000   0.000000000000   0.000000000000   0.106994637543   0.000000000000   0.000000000000   \n",
      "editor  \t|  0.000000000000   0.000000000000   0.000000000000   0.000000000000   0.000000000000   0.000000000000   0.107556467389   0.000000000000   0.000000000000   0.000000000000   \n",
      "elizabeth\t|  0.095553529070   0.000000000000   0.000000000000   0.000000000000   0.000000000000   0.000000000000   0.000000000000   0.000000000000   0.000000000000   0.000000000000   \n",
      "embodi  \t|  0.000000000000   0.000000000000   0.000000000000   0.000000000000   0.000000000000   0.129154899699   0.000000000000   0.000000000000   0.000000000000   0.000000000000   \n",
      "english \t|  0.000000000000   0.000000000000   0.000000000000   0.000000000000   0.000000000000   0.000000000000   0.107556467389   0.000000000000   0.000000000000   0.000000000000   \n",
      "enter   \t|  0.000000000000   0.000000000000   0.163851088328   0.000000000000   0.000000000000   0.000000000000   0.000000000000   0.000000000000   0.000000000000   0.000000000000   \n",
      "enthusiasm\t|  0.000000000000   0.000000000000   0.000000000000   0.000000000000   0.153665537573   0.000000000000   0.000000000000   0.000000000000   0.000000000000   0.000000000000   \n",
      "entir   \t|  0.000000000000   0.000000000000   0.000000000000   0.000000000000   0.000000000000   0.000000000000   0.000000000000   0.000000000000   0.000000000000   0.089120352560   \n",
      "europ   \t|  0.000000000000   0.000000000000   0.000000000000   0.000000000000   0.000000000000   0.000000000000   0.215112934778   0.000000000000   0.000000000000   0.000000000000   \n",
      "event   \t|  0.095553529070   0.000000000000   0.000000000000   0.000000000000   0.000000000000   0.000000000000   0.000000000000   0.000000000000   0.000000000000   0.000000000000   \n",
      "everi   \t|  0.000000000000   0.000000000000   0.000000000000   0.000000000000   0.000000000000   0.129154899699   0.000000000000   0.000000000000   0.000000000000   0.000000000000   \n",
      "everyth \t|  0.000000000000   0.000000000000   0.000000000000   0.000000000000   0.153665537573   0.000000000000   0.000000000000   0.000000000000   0.000000000000   0.000000000000   \n",
      "evolut  \t|  0.000000000000   0.000000000000   0.000000000000   0.000000000000   0.000000000000   0.000000000000   0.107556467389   0.000000000000   0.000000000000   0.000000000000   \n",
      "excit   \t|  0.000000000000   0.000000000000   0.163851088328   0.000000000000   0.000000000000   0.000000000000   0.000000000000   0.000000000000   0.000000000000   0.000000000000   \n",
      "execut  \t|  0.000000000000   0.000000000000   0.163851088328   0.000000000000   0.000000000000   0.000000000000   0.000000000000   0.000000000000   0.000000000000   0.000000000000   \n",
      "extric  \t|  0.095553529070   0.000000000000   0.000000000000   0.000000000000   0.000000000000   0.000000000000   0.000000000000   0.000000000000   0.000000000000   0.000000000000   \n",
      "fact    \t|  0.000000000000   0.000000000000   0.000000000000   0.000000000000   0.000000000000   0.109793464333   0.000000000000   0.000000000000   0.000000000000   0.075760441709   \n",
      "fail    \t|  0.000000000000   0.000000000000   0.000000000000   0.000000000000   0.000000000000   0.129154899699   0.000000000000   0.000000000000   0.000000000000   0.000000000000   \n",
      "fairli  \t|  0.000000000000   0.000000000000   0.000000000000   0.000000000000   0.000000000000   0.000000000000   0.000000000000   0.000000000000   0.117503982517   0.000000000000   \n",
      "famili  \t|  0.095553529070   0.000000000000   0.000000000000   0.000000000000   0.000000000000   0.000000000000   0.000000000000   0.000000000000   0.000000000000   0.000000000000   \n",
      "familiar\t|  0.000000000000   0.000000000000   0.000000000000   0.000000000000   0.000000000000   0.109793464333   0.000000000000   0.000000000000   0.000000000000   0.075760441709   \n",
      "far     \t|  0.000000000000   0.000000000000   0.000000000000   0.106551793208   0.000000000000   0.000000000000   0.091432823637   0.000000000000   0.000000000000   0.000000000000   \n",
      "father  \t|  0.081229229478   0.121485831918   0.000000000000   0.000000000000   0.000000000000   0.000000000000   0.000000000000   0.000000000000   0.000000000000   0.000000000000   \n",
      "fear    \t|  0.000000000000   0.000000000000   0.000000000000   0.000000000000   0.000000000000   0.000000000000   0.107556467389   0.000000000000   0.000000000000   0.000000000000   \n",
      "februari\t|  0.095553529070   0.000000000000   0.000000000000   0.000000000000   0.000000000000   0.000000000000   0.000000000000   0.000000000000   0.000000000000   0.000000000000   \n",
      "felix   \t|  0.000000000000   0.000000000000   0.000000000000   0.000000000000   0.000000000000   0.000000000000   0.000000000000   0.125862516171   0.000000000000   0.000000000000   \n",
      "fellow  \t|  0.000000000000   0.000000000000   0.163851088328   0.000000000000   0.000000000000   0.000000000000   0.000000000000   0.000000000000   0.000000000000   0.000000000000   \n",
      "figur   \t|  0.000000000000   0.000000000000   0.000000000000   0.000000000000   0.000000000000   0.129154899699   0.000000000000   0.000000000000   0.000000000000   0.000000000000   \n",
      "finish  \t|  0.000000000000   0.000000000000   0.000000000000   0.000000000000   0.000000000000   0.000000000000   0.107556467389   0.000000000000   0.000000000000   0.000000000000   \n",
      "follow  \t|  0.000000000000   0.000000000000   0.000000000000   0.000000000000   0.130629745817   0.000000000000   0.000000000000   0.000000000000   0.099889120301   0.000000000000   \n",
      "forget  \t|  0.000000000000   0.142909147931   0.000000000000   0.000000000000   0.000000000000   0.000000000000   0.000000000000   0.000000000000   0.000000000000   0.000000000000   \n",
      "forgotten\t|  0.000000000000   0.142909147931   0.000000000000   0.000000000000   0.000000000000   0.000000000000   0.000000000000   0.000000000000   0.000000000000   0.000000000000   \n",
      "fought  \t|  0.000000000000   0.000000000000   0.000000000000   0.125341578829   0.000000000000   0.000000000000   0.000000000000   0.000000000000   0.000000000000   0.000000000000   \n",
      "frankli \t|  0.000000000000   0.000000000000   0.000000000000   0.000000000000   0.000000000000   0.000000000000   0.000000000000   0.000000000000   0.117503982517   0.000000000000   \n",
      "freedom \t|  0.000000000000   0.000000000000   0.000000000000   0.125341578829   0.000000000000   0.000000000000   0.000000000000   0.000000000000   0.000000000000   0.000000000000   \n",
      "gather  \t|  0.000000000000   0.000000000000   0.000000000000   0.000000000000   0.153665537573   0.000000000000   0.000000000000   0.000000000000   0.000000000000   0.000000000000   \n",
      "gave    \t|  0.000000000000   0.000000000000   0.000000000000   0.106551793208   0.000000000000   0.000000000000   0.000000000000   0.000000000000   0.099889120301   0.000000000000   \n",
      "gener   \t|  0.000000000000   0.000000000000   0.000000000000   0.000000000000   0.000000000000   0.000000000000   0.107556467389   0.000000000000   0.000000000000   0.000000000000   \n",
      "georg   \t|  0.095553529070   0.000000000000   0.000000000000   0.000000000000   0.000000000000   0.000000000000   0.000000000000   0.000000000000   0.000000000000   0.000000000000   \n",
      "gettysburg\t|  0.000000000000   0.000000000000   0.000000000000   0.250683157657   0.000000000000   0.000000000000   0.000000000000   0.000000000000   0.000000000000   0.000000000000   \n",
      "given   \t|  0.000000000000   0.000000000000   0.000000000000   0.106551793208   0.000000000000   0.000000000000   0.000000000000   0.000000000000   0.000000000000   0.151520883418   \n",
      "god     \t|  0.000000000000   0.000000000000   0.000000000000   0.125341578829   0.000000000000   0.000000000000   0.000000000000   0.000000000000   0.000000000000   0.000000000000   \n",
      "got     \t|  0.000000000000   0.000000000000   0.000000000000   0.000000000000   0.153665537573   0.000000000000   0.000000000000   0.000000000000   0.000000000000   0.000000000000   \n",
      "govern  \t|  0.000000000000   0.000000000000   0.139288394510   0.106551793208   0.000000000000   0.000000000000   0.000000000000   0.000000000000   0.000000000000   0.000000000000   \n",
      "great   \t|  0.000000000000   0.000000000000   0.000000000000   0.082879462919   0.203216160866   0.000000000000   0.071119434859   0.000000000000   0.077697018442   0.000000000000   \n",
      "habit   \t|  0.000000000000   0.000000000000   0.000000000000   0.000000000000   0.000000000000   0.000000000000   0.000000000000   0.000000000000   0.117503982517   0.000000000000   \n",
      "hand    \t|  0.000000000000   0.000000000000   0.000000000000   0.000000000000   0.000000000000   0.000000000000   0.000000000000   0.125862516171   0.000000000000   0.000000000000   \n",
      "harri   \t|  0.191107058140   0.000000000000   0.000000000000   0.000000000000   0.000000000000   0.000000000000   0.000000000000   0.000000000000   0.000000000000   0.000000000000   \n",
      "hazard  \t|  0.000000000000   0.000000000000   0.000000000000   0.000000000000   0.000000000000   0.000000000000   0.000000000000   0.000000000000   0.000000000000   0.089120352560   \n",
      "highli  \t|  0.000000000000   0.000000000000   0.000000000000   0.125341578829   0.000000000000   0.000000000000   0.000000000000   0.000000000000   0.000000000000   0.000000000000   \n",
      "historian\t|  0.000000000000   0.000000000000   0.000000000000   0.000000000000   0.000000000000   0.000000000000   0.000000000000   0.125862516171   0.000000000000   0.000000000000   \n",
      "hitherto\t|  0.000000000000   0.000000000000   0.000000000000   0.000000000000   0.000000000000   0.000000000000   0.000000000000   0.125862516171   0.000000000000   0.000000000000   \n",
      "honor   \t|  0.000000000000   0.000000000000   0.000000000000   0.125341578829   0.000000000000   0.000000000000   0.000000000000   0.000000000000   0.000000000000   0.000000000000   \n",
      "honour  \t|  0.000000000000   0.000000000000   0.000000000000   0.000000000000   0.000000000000   0.000000000000   0.107556467389   0.000000000000   0.000000000000   0.000000000000   \n",
      "hope    \t|  0.000000000000   0.000000000000   0.000000000000   0.000000000000   0.000000000000   0.000000000000   0.107556467389   0.000000000000   0.000000000000   0.000000000000   \n",
      "hous    \t|  0.000000000000   0.000000000000   0.000000000000   0.000000000000   0.153665537573   0.000000000000   0.000000000000   0.000000000000   0.000000000000   0.000000000000   \n",
      "howev   \t|  0.000000000000   0.000000000000   0.000000000000   0.000000000000   0.000000000000   0.000000000000   0.107556467389   0.000000000000   0.000000000000   0.000000000000   \n",
      "human   \t|  0.000000000000   0.000000000000   0.000000000000   0.000000000000   0.000000000000   0.000000000000   0.000000000000   0.000000000000   0.000000000000   0.089120352560   \n",
      "i.      \t|  0.191107058140   0.000000000000   0.000000000000   0.000000000000   0.000000000000   0.000000000000   0.000000000000   0.000000000000   0.000000000000   0.000000000000   \n",
      "ideal   \t|  0.000000000000   0.000000000000   0.000000000000   0.000000000000   0.000000000000   0.129154899699   0.000000000000   0.000000000000   0.000000000000   0.000000000000   \n",
      "ident   \t|  0.000000000000   0.000000000000   0.000000000000   0.000000000000   0.000000000000   0.000000000000   0.107556467389   0.000000000000   0.000000000000   0.000000000000   \n",
      "ii      \t|  0.095553529070   0.000000000000   0.000000000000   0.000000000000   0.000000000000   0.000000000000   0.000000000000   0.000000000000   0.000000000000   0.000000000000   \n",
      "import  \t|  0.095553529070   0.000000000000   0.000000000000   0.000000000000   0.000000000000   0.000000000000   0.000000000000   0.000000000000   0.000000000000   0.000000000000   \n",
      "impress \t|  0.000000000000   0.000000000000   0.000000000000   0.000000000000   0.000000000000   0.000000000000   0.000000000000   0.000000000000   0.000000000000   0.178240705119   \n",
      "inaugur \t|  0.000000000000   0.000000000000   0.139288394510   0.000000000000   0.130629745817   0.000000000000   0.000000000000   0.000000000000   0.000000000000   0.000000000000   \n",
      "includ  \t|  0.000000000000   0.000000000000   0.000000000000   0.000000000000   0.000000000000   0.000000000000   0.000000000000   0.000000000000   0.000000000000   0.089120352560   \n",
      "increas \t|  0.000000000000   0.000000000000   0.000000000000   0.125341578829   0.000000000000   0.000000000000   0.000000000000   0.000000000000   0.000000000000   0.000000000000   \n",
      "inde    \t|  0.000000000000   0.000000000000   0.000000000000   0.000000000000   0.000000000000   0.000000000000   0.107556467389   0.000000000000   0.000000000000   0.000000000000   \n",
      "indic   \t|  0.000000000000   0.000000000000   0.000000000000   0.000000000000   0.153665537573   0.000000000000   0.000000000000   0.000000000000   0.000000000000   0.000000000000   \n",
      "influenc\t|  0.000000000000   0.000000000000   0.000000000000   0.000000000000   0.000000000000   0.000000000000   0.107556467389   0.000000000000   0.000000000000   0.000000000000   \n",
      "innoc   \t|  0.000000000000   0.000000000000   0.000000000000   0.000000000000   0.000000000000   0.000000000000   0.000000000000   0.000000000000   0.117503982517   0.000000000000   \n",
      "inquir  \t|  0.000000000000   0.000000000000   0.000000000000   0.000000000000   0.000000000000   0.000000000000   0.000000000000   0.000000000000   0.000000000000   0.089120352560   \n",
      "introduct\t|  0.000000000000   0.000000000000   0.000000000000   0.000000000000   0.000000000000   0.096056307324   0.000000000000   0.093607664611   0.000000000000   0.066281434109   \n",
      "investig\t|  0.095553529070   0.000000000000   0.000000000000   0.000000000000   0.000000000000   0.000000000000   0.000000000000   0.000000000000   0.000000000000   0.000000000000   \n",
      "izaak   \t|  0.382214116280   0.000000000000   0.000000000000   0.000000000000   0.000000000000   0.000000000000   0.000000000000   0.000000000000   0.000000000000   0.000000000000   \n",
      "izaak'  \t|  0.095553529070   0.000000000000   0.000000000000   0.000000000000   0.000000000000   0.000000000000   0.000000000000   0.000000000000   0.000000000000   0.000000000000   \n",
      "jame    \t|  0.095553529070   0.000000000000   0.000000000000   0.000000000000   0.000000000000   0.000000000000   0.000000000000   0.000000000000   0.000000000000   0.000000000000   \n",
      "jarvi   \t|  0.095553529070   0.000000000000   0.000000000000   0.000000000000   0.000000000000   0.000000000000   0.000000000000   0.000000000000   0.000000000000   0.000000000000   \n",
      "judgment\t|  0.000000000000   0.285818295861   0.000000000000   0.000000000000   0.000000000000   0.000000000000   0.000000000000   0.000000000000   0.000000000000   0.000000000000   \n",
      "justifi \t|  0.000000000000   0.000000000000   0.000000000000   0.000000000000   0.000000000000   0.000000000000   0.000000000000   0.000000000000   0.000000000000   0.089120352560   \n",
      "kind    \t|  0.000000000000   0.000000000000   0.000000000000   0.000000000000   0.000000000000   0.000000000000   0.000000000000   0.000000000000   0.000000000000   0.089120352560   \n",
      "know    \t|  0.000000000000   0.000000000000   0.000000000000   0.000000000000   0.000000000000   0.129154899699   0.000000000000   0.000000000000   0.000000000000   0.000000000000   \n",
      "knowledg\t|  0.000000000000   0.000000000000   0.000000000000   0.000000000000   0.000000000000   0.000000000000   0.107556467389   0.000000000000   0.000000000000   0.000000000000   \n",
      "known   \t|  0.063182746247   0.000000000000   0.000000000000   0.000000000000   0.000000000000   0.000000000000   0.071119434859   0.249671765094   0.000000000000   0.058928944603   \n",
      "labour  \t|  0.000000000000   0.000000000000   0.000000000000   0.000000000000   0.000000000000   0.000000000000   0.107556467389   0.000000000000   0.000000000000   0.000000000000   \n"
     ]
    },
    {
     "name": "stdout",
     "output_type": "stream",
     "text": [
      "land    \t|  0.000000000000   0.142909147931   0.000000000000   0.000000000000   0.000000000000   0.000000000000   0.000000000000   0.000000000000   0.000000000000   0.000000000000   \n",
      "lang    \t|  0.000000000000   0.000000000000   0.000000000000   0.000000000000   0.000000000000   0.000000000000   0.000000000000   0.000000000000   0.000000000000   0.089120352560   \n",
      "latin   \t|  0.000000000000   0.000000000000   0.000000000000   0.000000000000   0.000000000000   0.000000000000   0.000000000000   0.251725032343   0.000000000000   0.000000000000   \n",
      "left    \t|  0.000000000000   0.000000000000   0.000000000000   0.000000000000   0.000000000000   0.000000000000   0.215112934778   0.000000000000   0.000000000000   0.000000000000   \n",
      "lesli   \t|  0.000000000000   0.000000000000   0.000000000000   0.000000000000   0.000000000000   0.000000000000   0.000000000000   0.125862516171   0.000000000000   0.000000000000   \n",
      "let     \t|  0.000000000000   0.142909147931   0.000000000000   0.000000000000   0.000000000000   0.000000000000   0.000000000000   0.000000000000   0.000000000000   0.000000000000   \n",
      "letter  \t|  0.000000000000   0.142909147931   0.000000000000   0.000000000000   0.000000000000   0.000000000000   0.000000000000   0.000000000000   0.000000000000   0.000000000000   \n",
      "life    \t|  0.142131954353   0.000000000000   0.000000000000   0.000000000000   0.000000000000   0.096056307324   0.000000000000   0.000000000000   0.000000000000   0.132562868219   \n",
      "like    \t|  0.000000000000   0.000000000000   0.000000000000   0.000000000000   0.000000000000   0.000000000000   0.000000000000   0.000000000000   0.099889120301   0.075760441709   \n",
      "lincoln \t|  0.000000000000   0.084862431295   0.097298192084   0.074430442528   0.091249799706   0.076694871958   0.000000000000   0.000000000000   0.000000000000   0.000000000000   \n",
      "literaria_\t|  0.000000000000   0.000000000000   0.000000000000   0.000000000000   0.000000000000   0.000000000000   0.000000000000   0.000000000000   0.117503982517   0.000000000000   \n",
      "littl   \t|  0.000000000000   0.000000000000   0.000000000000   0.000000000000   0.000000000000   0.000000000000   0.000000000000   0.000000000000   0.117503982517   0.000000000000   \n",
      "live    \t|  0.063182746247   0.000000000000   0.000000000000   0.082879462919   0.000000000000   0.000000000000   0.071119434859   0.000000000000   0.000000000000   0.058928944603   \n",
      "localis \t|  0.000000000000   0.000000000000   0.000000000000   0.000000000000   0.000000000000   0.000000000000   0.000000000000   0.000000000000   0.000000000000   0.089120352560   \n",
      "long    \t|  0.081229229478   0.121485831918   0.000000000000   0.000000000000   0.000000000000   0.000000000000   0.000000000000   0.000000000000   0.000000000000   0.000000000000   \n",
      "longest \t|  0.000000000000   0.000000000000   0.000000000000   0.000000000000   0.153665537573   0.000000000000   0.000000000000   0.000000000000   0.000000000000   0.000000000000   \n",
      "lord    \t|  0.000000000000   0.000000000000   0.000000000000   0.000000000000   0.000000000000   0.000000000000   0.000000000000   0.000000000000   0.000000000000   0.089120352560   \n",
      "lost    \t|  0.000000000000   0.000000000000   0.000000000000   0.000000000000   0.000000000000   0.000000000000   0.000000000000   0.125862516171   0.000000000000   0.000000000000   \n",
      "love    \t|  0.000000000000   0.142909147931   0.000000000000   0.000000000000   0.000000000000   0.000000000000   0.000000000000   0.000000000000   0.000000000000   0.000000000000   \n",
      "man     \t|  0.000000000000   0.000000000000   0.000000000000   0.000000000000   0.000000000000   0.329380392999   0.000000000000   0.000000000000   0.099889120301   0.000000000000   \n",
      "mani    \t|  0.000000000000   0.000000000000   0.000000000000   0.000000000000   0.000000000000   0.000000000000   0.000000000000   0.000000000000   0.000000000000   0.089120352560   \n",
      "manuscript\t|  0.000000000000   0.000000000000   0.000000000000   0.000000000000   0.000000000000   0.000000000000   0.000000000000   0.125862516171   0.000000000000   0.000000000000   \n",
      "march   \t|  0.000000000000   0.000000000000   0.163851088328   0.000000000000   0.000000000000   0.000000000000   0.000000000000   0.000000000000   0.000000000000   0.000000000000   \n",
      "marchen \t|  0.000000000000   0.000000000000   0.000000000000   0.000000000000   0.000000000000   0.000000000000   0.107556467389   0.000000000000   0.000000000000   0.000000000000   \n",
      "mass    \t|  0.000000000000   0.000000000000   0.000000000000   0.000000000000   0.000000000000   0.129154899699   0.000000000000   0.000000000000   0.000000000000   0.000000000000   \n",
      "matter  \t|  0.000000000000   0.000000000000   0.139288394510   0.000000000000   0.000000000000   0.000000000000   0.000000000000   0.000000000000   0.000000000000   0.075760441709   \n",
      "measur  \t|  0.000000000000   0.000000000000   0.000000000000   0.125341578829   0.000000000000   0.000000000000   0.000000000000   0.000000000000   0.000000000000   0.000000000000   \n",
      "memoriam\t|  0.000000000000   0.000000000000   0.000000000000   0.000000000000   0.000000000000   0.000000000000   0.000000000000   0.000000000000   0.000000000000   0.089120352560   \n",
      "mind    \t|  0.000000000000   0.000000000000   0.000000000000   0.000000000000   0.000000000000   0.000000000000   0.000000000000   0.000000000000   0.117503982517   0.000000000000   \n",
      "mother  \t|  0.081229229478   0.121485831918   0.000000000000   0.000000000000   0.000000000000   0.000000000000   0.000000000000   0.000000000000   0.000000000000   0.000000000000   \n",
      "mr      \t|  0.000000000000   0.000000000000   0.000000000000   0.000000000000   0.000000000000   0.000000000000   0.000000000000   0.000000000000   0.000000000000   0.089120352560   \n",
      "mr.     \t|  0.000000000000   0.000000000000   0.000000000000   0.000000000000   0.000000000000   0.000000000000   0.000000000000   0.251725032343   0.000000000000   0.000000000000   \n",
      "ms.     \t|  0.000000000000   0.000000000000   0.000000000000   0.000000000000   0.000000000000   0.000000000000   0.000000000000   0.125862516171   0.000000000000   0.000000000000   \n",
      "narr    \t|  0.000000000000   0.000000000000   0.000000000000   0.000000000000   0.000000000000   0.000000000000   0.000000000000   0.125862516171   0.000000000000   0.000000000000   \n",
      "nation  \t|  0.000000000000   0.000000000000   0.000000000000   0.106551793208   0.000000000000   0.219586928666   0.000000000000   0.000000000000   0.000000000000   0.000000000000   \n",
      "nativ   \t|  0.000000000000   0.000000000000   0.000000000000   0.000000000000   0.000000000000   0.129154899699   0.000000000000   0.000000000000   0.000000000000   0.000000000000   \n",
      "near    \t|  0.000000000000   0.000000000000   0.000000000000   0.125341578829   0.000000000000   0.000000000000   0.000000000000   0.000000000000   0.000000000000   0.000000000000   \n",
      "necessari\t|  0.000000000000   0.121485831918   0.139288394510   0.000000000000   0.000000000000   0.000000000000   0.000000000000   0.000000000000   0.000000000000   0.000000000000   \n",
      "neglect \t|  0.000000000000   0.000000000000   0.000000000000   0.000000000000   0.000000000000   0.000000000000   0.000000000000   0.000000000000   0.000000000000   0.089120352560   \n",
      "new     \t|  0.000000000000   0.000000000000   0.000000000000   0.125341578829   0.000000000000   0.000000000000   0.000000000000   0.000000000000   0.000000000000   0.000000000000   \n",
      "news    \t|  0.000000000000   0.000000000000   0.000000000000   0.000000000000   0.000000000000   0.000000000000   0.107556467389   0.000000000000   0.000000000000   0.000000000000   \n",
      "newspap \t|  0.000000000000   0.000000000000   0.000000000000   0.000000000000   0.130629745817   0.000000000000   0.000000000000   0.000000000000   0.099889120301   0.000000000000   \n",
      "nicola  \t|  0.191107058140   0.000000000000   0.000000000000   0.000000000000   0.000000000000   0.000000000000   0.000000000000   0.000000000000   0.000000000000   0.000000000000   \n",
      "night   \t|  0.000000000000   0.142909147931   0.000000000000   0.000000000000   0.000000000000   0.000000000000   0.000000000000   0.000000000000   0.000000000000   0.000000000000   \n",
      "nobli   \t|  0.000000000000   0.000000000000   0.000000000000   0.125341578829   0.000000000000   0.000000000000   0.000000000000   0.000000000000   0.000000000000   0.000000000000   \n",
      "norman  \t|  0.000000000000   0.000000000000   0.000000000000   0.000000000000   0.000000000000   0.000000000000   0.000000000000   0.125862516171   0.000000000000   0.000000000000   \n",
      "note    \t|  0.000000000000   0.000000000000   0.000000000000   0.000000000000   0.000000000000   0.000000000000   0.000000000000   0.125862516171   0.000000000000   0.000000000000   \n",
      "noth    \t|  0.095553529070   0.000000000000   0.000000000000   0.000000000000   0.000000000000   0.000000000000   0.000000000000   0.000000000000   0.000000000000   0.000000000000   \n",
      "novemb  \t|  0.000000000000   0.000000000000   0.000000000000   0.125341578829   0.000000000000   0.000000000000   0.000000000000   0.000000000000   0.000000000000   0.000000000000   \n",
      "oath    \t|  0.000000000000   0.000000000000   0.163851088328   0.000000000000   0.000000000000   0.000000000000   0.000000000000   0.000000000000   0.000000000000   0.000000000000   \n",
      "occas   \t|  0.000000000000   0.000000000000   0.000000000000   0.000000000000   0.153665537573   0.000000000000   0.000000000000   0.000000000000   0.000000000000   0.000000000000   \n",
      "offic   \t|  0.000000000000   0.000000000000   0.163851088328   0.000000000000   0.000000000000   0.000000000000   0.000000000000   0.000000000000   0.000000000000   0.000000000000   \n",
      "old     \t|  0.081229229478   0.000000000000   0.139288394510   0.000000000000   0.000000000000   0.000000000000   0.000000000000   0.000000000000   0.000000000000   0.000000000000   \n",
      "older   \t|  0.000000000000   0.000000000000   0.000000000000   0.000000000000   0.000000000000   0.000000000000   0.000000000000   0.125862516171   0.000000000000   0.000000000000   \n",
      "opium-  \t|  0.000000000000   0.000000000000   0.000000000000   0.000000000000   0.000000000000   0.000000000000   0.000000000000   0.000000000000   0.235007965034   0.000000000000   \n",
      "origin  \t|  0.000000000000   0.000000000000   0.000000000000   0.000000000000   0.000000000000   0.000000000000   0.000000000000   0.125862516171   0.000000000000   0.000000000000   \n",
      "pacif   \t|  0.095553529070   0.000000000000   0.000000000000   0.000000000000   0.000000000000   0.000000000000   0.000000000000   0.000000000000   0.000000000000   0.000000000000   \n",
      "page    \t|  0.000000000000   0.000000000000   0.000000000000   0.000000000000   0.000000000000   0.000000000000   0.000000000000   0.000000000000   0.117503982517   0.000000000000   \n",
      "paid    \t|  0.000000000000   0.285818295861   0.000000000000   0.000000000000   0.000000000000   0.000000000000   0.000000000000   0.000000000000   0.000000000000   0.000000000000   \n",
      "paradis \t|  0.000000000000   0.000000000000   0.000000000000   0.000000000000   0.000000000000   0.000000000000   0.000000000000   0.000000000000   0.117503982517   0.000000000000   \n",
      "particularli\t|  0.000000000000   0.142909147931   0.000000000000   0.000000000000   0.000000000000   0.000000000000   0.000000000000   0.000000000000   0.000000000000   0.000000000000   \n",
      "pass    \t|  0.081229229478   0.000000000000   0.000000000000   0.000000000000   0.000000000000   0.109793464333   0.000000000000   0.000000000000   0.000000000000   0.000000000000   \n",
      "pay     \t|  0.000000000000   0.142909147931   0.000000000000   0.000000000000   0.000000000000   0.000000000000   0.000000000000   0.000000000000   0.000000000000   0.000000000000   \n",
      "pennsylvania\t|  0.000000000000   0.000000000000   0.000000000000   0.125341578829   0.000000000000   0.000000000000   0.000000000000   0.000000000000   0.000000000000   0.000000000000   \n",
      "peopl   \t|  0.000000000000   0.000000000000   0.000000000000   0.223291327585   0.091249799706   0.306779487832   0.000000000000   0.000000000000   0.069776314446   0.052921523259   \n",
      "period  \t|  0.000000000000   0.000000000000   0.000000000000   0.000000000000   0.153665537573   0.000000000000   0.000000000000   0.000000000000   0.000000000000   0.000000000000   \n",
      "perish  \t|  0.000000000000   0.000000000000   0.000000000000   0.125341578829   0.000000000000   0.000000000000   0.000000000000   0.000000000000   0.000000000000   0.000000000000   \n",
      "permiss \t|  0.000000000000   0.000000000000   0.000000000000   0.000000000000   0.000000000000   0.000000000000   0.000000000000   0.000000000000   0.000000000000   0.089120352560   \n",
      "perpetu \t|  0.000000000000   0.000000000000   0.000000000000   0.000000000000   0.000000000000   0.000000000000   0.000000000000   0.000000000000   0.117503982517   0.000000000000   \n",
      "person  \t|  0.000000000000   0.000000000000   0.000000000000   0.000000000000   0.000000000000   0.000000000000   0.000000000000   0.000000000000   0.000000000000   0.089120352560   \n",
      "pitcullo\t|  0.000000000000   0.000000000000   0.000000000000   0.000000000000   0.000000000000   0.000000000000   0.000000000000   0.125862516171   0.000000000000   0.000000000000   \n",
      "plaintiff\t|  0.000000000000   0.142909147931   0.000000000000   0.000000000000   0.000000000000   0.000000000000   0.000000000000   0.000000000000   0.000000000000   0.000000000000   \n",
      "pleasur \t|  0.000000000000   0.000000000000   0.000000000000   0.000000000000   0.000000000000   0.000000000000   0.000000000000   0.000000000000   0.000000000000   0.089120352560   \n",
      "pluscarden\t|  0.000000000000   0.000000000000   0.000000000000   0.000000000000   0.000000000000   0.000000000000   0.000000000000   0.125862516171   0.000000000000   0.000000000000   \n",
      "poem    \t|  0.000000000000   0.000000000000   0.000000000000   0.000000000000   0.000000000000   0.000000000000   0.000000000000   0.000000000000   0.000000000000   0.178240705119   \n",
      "poetic  \t|  0.000000000000   0.000000000000   0.000000000000   0.000000000000   0.000000000000   0.000000000000   0.107556467389   0.000000000000   0.000000000000   0.000000000000   \n",
      "poetri  \t|  0.000000000000   0.000000000000   0.000000000000   0.000000000000   0.000000000000   0.000000000000   0.000000000000   0.000000000000   0.000000000000   0.089120352560   \n",
      "point   \t|  0.000000000000   0.000000000000   0.000000000000   0.000000000000   0.000000000000   0.000000000000   0.000000000000   0.000000000000   0.000000000000   0.089120352560   \n",
      "polit   \t|  0.000000000000   0.000000000000   0.000000000000   0.000000000000   0.000000000000   0.129154899699   0.000000000000   0.000000000000   0.000000000000   0.000000000000   \n",
      "prais   \t|  0.000000000000   0.000000000000   0.000000000000   0.000000000000   0.000000000000   0.000000000000   0.000000000000   0.000000000000   0.117503982517   0.000000000000   \n",
      "predecessor\t|  0.000000000000   0.000000000000   0.000000000000   0.000000000000   0.000000000000   0.000000000000   0.000000000000   0.000000000000   0.000000000000   0.089120352560   \n",
      "prefac  \t|  0.000000000000   0.000000000000   0.000000000000   0.000000000000   0.000000000000   0.000000000000   0.000000000000   0.125862516171   0.000000000000   0.000000000000   \n",
      "prepar  \t|  0.000000000000   0.000000000000   0.000000000000   0.000000000000   0.153665537573   0.000000000000   0.000000000000   0.000000000000   0.000000000000   0.000000000000   \n",
      "prescrib\t|  0.000000000000   0.000000000000   0.163851088328   0.000000000000   0.000000000000   0.000000000000   0.000000000000   0.000000000000   0.000000000000   0.000000000000   \n",
      "presenc \t|  0.000000000000   0.000000000000   0.163851088328   0.000000000000   0.000000000000   0.000000000000   0.000000000000   0.000000000000   0.000000000000   0.000000000000   \n",
      "present \t|  0.000000000000   0.000000000000   0.139288394510   0.000000000000   0.000000000000   0.000000000000   0.000000000000   0.000000000000   0.000000000000   0.075760441709   \n",
      "presid  \t|  0.000000000000   0.000000000000   0.139288394510   0.000000000000   0.130629745817   0.000000000000   0.000000000000   0.000000000000   0.000000000000   0.000000000000   \n",
      "presidenti\t|  0.000000000000   0.000000000000   0.000000000000   0.000000000000   0.153665537573   0.000000000000   0.000000000000   0.000000000000   0.000000000000   0.000000000000   \n",
      "print   \t|  0.000000000000   0.000000000000   0.000000000000   0.000000000000   0.130629745817   0.000000000000   0.000000000000   0.000000000000   0.000000000000   0.075760441709   \n",
      "probabl \t|  0.095553529070   0.000000000000   0.000000000000   0.000000000000   0.000000000000   0.000000000000   0.000000000000   0.000000000000   0.000000000000   0.000000000000   \n",
      "process \t|  0.000000000000   0.000000000000   0.000000000000   0.000000000000   0.000000000000   0.000000000000   0.107556467389   0.000000000000   0.000000000000   0.000000000000   \n",
      "profess \t|  0.000000000000   0.000000000000   0.000000000000   0.000000000000   0.000000000000   0.000000000000   0.000000000000   0.000000000000   0.000000000000   0.089120352560   \n",
      "professor\t|  0.000000000000   0.000000000000   0.000000000000   0.000000000000   0.000000000000   0.000000000000   0.182865647274   0.000000000000   0.000000000000   0.075760441709   \n",
      "prologu \t|  0.000000000000   0.000000000000   0.000000000000   0.000000000000   0.000000000000   0.000000000000   0.000000000000   0.251725032343   0.000000000000   0.000000000000   \n",
      "properti\t|  0.000000000000   0.142909147931   0.000000000000   0.000000000000   0.000000000000   0.000000000000   0.000000000000   0.000000000000   0.000000000000   0.000000000000   \n",
      "prove   \t|  0.000000000000   0.142909147931   0.000000000000   0.000000000000   0.000000000000   0.000000000000   0.000000000000   0.000000000000   0.000000000000   0.000000000000   \n",
      "pupil   \t|  0.000000000000   0.000000000000   0.000000000000   0.000000000000   0.000000000000   0.000000000000   0.107556467389   0.000000000000   0.000000000000   0.000000000000   \n",
      "purpos  \t|  0.000000000000   0.000000000000   0.000000000000   0.000000000000   0.000000000000   0.000000000000   0.000000000000   0.000000000000   0.117503982517   0.000000000000   \n",
      "pursuit \t|  0.095553529070   0.000000000000   0.000000000000   0.000000000000   0.000000000000   0.000000000000   0.000000000000   0.000000000000   0.000000000000   0.000000000000   \n",
      "question\t|  0.000000000000   0.000000000000   0.000000000000   0.000000000000   0.130629745817   0.000000000000   0.000000000000   0.000000000000   0.000000000000   0.075760441709   \n",
      "rais    \t|  0.000000000000   0.000000000000   0.000000000000   0.000000000000   0.000000000000   0.000000000000   0.000000000000   0.000000000000   0.000000000000   0.089120352560   \n",
      "read    \t|  0.000000000000   0.000000000000   0.000000000000   0.000000000000   0.000000000000   0.000000000000   0.000000000000   0.000000000000   0.199778240601   0.151520883418   \n",
      "reader  \t|  0.000000000000   0.000000000000   0.000000000000   0.000000000000   0.000000000000   0.000000000000   0.000000000000   0.125862516171   0.000000000000   0.000000000000   \n",
      "reason  \t|  0.000000000000   0.000000000000   0.000000000000   0.000000000000   0.000000000000   0.000000000000   0.000000000000   0.000000000000   0.000000000000   0.089120352560   \n",
      "receiv  \t|  0.000000000000   0.121485831918   0.000000000000   0.000000000000   0.130629745817   0.000000000000   0.000000000000   0.000000000000   0.000000000000   0.000000000000   \n",
      "reconstruct\t|  0.000000000000   0.000000000000   0.000000000000   0.000000000000   0.153665537573   0.000000000000   0.000000000000   0.000000000000   0.000000000000   0.000000000000   \n",
      "refer   \t|  0.000000000000   0.000000000000   0.000000000000   0.000000000000   0.000000000000   0.000000000000   0.000000000000   0.251725032343   0.000000000000   0.000000000000   \n",
      "regret  \t|  0.000000000000   0.000000000000   0.000000000000   0.000000000000   0.000000000000   0.000000000000   0.107556467389   0.000000000000   0.000000000000   0.000000000000   \n",
      "reign   \t|  0.095553529070   0.000000000000   0.000000000000   0.000000000000   0.000000000000   0.000000000000   0.000000000000   0.000000000000   0.000000000000   0.000000000000   \n",
      "reject  \t|  0.000000000000   0.000000000000   0.000000000000   0.000000000000   0.000000000000   0.000000000000   0.000000000000   0.000000000000   0.000000000000   0.089120352560   \n",
      "relat   \t|  0.000000000000   0.000000000000   0.000000000000   0.000000000000   0.000000000000   0.000000000000   0.000000000000   0.000000000000   0.117503982517   0.000000000000   \n",
      "reli    \t|  0.000000000000   0.000000000000   0.000000000000   0.000000000000   0.000000000000   0.129154899699   0.000000000000   0.000000000000   0.000000000000   0.000000000000   \n",
      "remain  \t|  0.000000000000   0.000000000000   0.000000000000   0.106551793208   0.000000000000   0.109793464333   0.000000000000   0.000000000000   0.000000000000   0.000000000000   \n",
      "remark  \t|  0.000000000000   0.000000000000   0.000000000000   0.000000000000   0.153665537573   0.000000000000   0.000000000000   0.000000000000   0.000000000000   0.000000000000   \n",
      "rememb  \t|  0.000000000000   0.000000000000   0.000000000000   0.000000000000   0.000000000000   0.000000000000   0.000000000000   0.000000000000   0.117503982517   0.000000000000   \n",
      "reminisc\t|  0.000000000000   0.000000000000   0.000000000000   0.000000000000   0.000000000000   0.000000000000   0.000000000000   0.000000000000   0.117503982517   0.000000000000   \n",
      "report  \t|  0.000000000000   0.000000000000   0.000000000000   0.000000000000   0.153665537573   0.000000000000   0.000000000000   0.000000000000   0.000000000000   0.000000000000   \n",
      "repres  \t|  0.000000000000   0.000000000000   0.000000000000   0.000000000000   0.000000000000   0.129154899699   0.000000000000   0.000000000000   0.000000000000   0.000000000000   \n",
      "request \t|  0.000000000000   0.000000000000   0.000000000000   0.000000000000   0.153665537573   0.000000000000   0.000000000000   0.000000000000   0.000000000000   0.000000000000   \n",
      "research\t|  0.071065977177   0.000000000000   0.000000000000   0.000000000000   0.000000000000   0.000000000000   0.079992916337   0.000000000000   0.000000000000   0.066281434109   \n",
      "resolv  \t|  0.000000000000   0.000000000000   0.000000000000   0.125341578829   0.000000000000   0.000000000000   0.000000000000   0.000000000000   0.000000000000   0.000000000000   \n",
      "rest    \t|  0.000000000000   0.000000000000   0.000000000000   0.000000000000   0.000000000000   0.000000000000   0.000000000000   0.000000000000   0.000000000000   0.089120352560   \n",
      "room    \t|  0.000000000000   0.000000000000   0.000000000000   0.000000000000   0.000000000000   0.000000000000   0.000000000000   0.000000000000   0.117503982517   0.000000000000   \n",
      "rule    \t|  0.000000000000   0.000000000000   0.000000000000   0.000000000000   0.000000000000   0.000000000000   0.000000000000   0.000000000000   0.000000000000   0.178240705119   \n",
      "said    \t|  0.000000000000   0.000000000000   0.000000000000   0.000000000000   0.130629745817   0.000000000000   0.091432823637   0.000000000000   0.000000000000   0.000000000000   \n",
      "sale    \t|  0.000000000000   0.142909147931   0.000000000000   0.000000000000   0.000000000000   0.000000000000   0.000000000000   0.000000000000   0.000000000000   0.000000000000   \n",
      "satisfi \t|  0.000000000000   0.142909147931   0.000000000000   0.000000000000   0.000000000000   0.000000000000   0.000000000000   0.000000000000   0.000000000000   0.000000000000   \n",
      "save    \t|  0.000000000000   0.142909147931   0.000000000000   0.000000000000   0.000000000000   0.000000000000   0.000000000000   0.000000000000   0.000000000000   0.000000000000   \n",
      "say     \t|  0.000000000000   0.106285747308   0.000000000000   0.000000000000   0.000000000000   0.000000000000   0.000000000000   0.093607664611   0.087391176663   0.000000000000   \n",
      "scholarship\t|  0.000000000000   0.000000000000   0.000000000000   0.000000000000   0.000000000000   0.000000000000   0.107556467389   0.000000000000   0.000000000000   0.000000000000   \n",
      "scientif\t|  0.000000000000   0.000000000000   0.000000000000   0.000000000000   0.000000000000   0.000000000000   0.107556467389   0.000000000000   0.000000000000   0.000000000000   \n",
      "scotland\t|  0.000000000000   0.000000000000   0.000000000000   0.000000000000   0.000000000000   0.000000000000   0.000000000000   0.125862516171   0.000000000000   0.000000000000   \n",
      "scottish\t|  0.000000000000   0.000000000000   0.000000000000   0.000000000000   0.000000000000   0.000000000000   0.107556467389   0.000000000000   0.000000000000   0.000000000000   \n",
      "second  \t|  0.095553529070   0.000000000000   0.000000000000   0.000000000000   0.000000000000   0.000000000000   0.000000000000   0.000000000000   0.000000000000   0.000000000000   \n",
      "seldom  \t|  0.000000000000   0.000000000000   0.000000000000   0.000000000000   0.000000000000   0.000000000000   0.000000000000   0.000000000000   0.117503982517   0.000000000000   \n",
      "select  \t|  0.081229229478   0.000000000000   0.000000000000   0.000000000000   0.000000000000   0.000000000000   0.091432823637   0.000000000000   0.000000000000   0.000000000000   \n",
      "send    \t|  0.000000000000   0.142909147931   0.000000000000   0.000000000000   0.000000000000   0.000000000000   0.000000000000   0.000000000000   0.000000000000   0.000000000000   \n",
      "sens    \t|  0.000000000000   0.000000000000   0.000000000000   0.000000000000   0.000000000000   0.000000000000   0.107556467389   0.000000000000   0.000000000000   0.000000000000   \n",
      "septemb \t|  0.095553529070   0.000000000000   0.000000000000   0.000000000000   0.000000000000   0.000000000000   0.000000000000   0.000000000000   0.000000000000   0.000000000000   \n",
      "seri    \t|  0.000000000000   0.000000000000   0.000000000000   0.000000000000   0.000000000000   0.000000000000   0.000000000000   0.125862516171   0.000000000000   0.000000000000   \n",
      "shall   \t|  0.000000000000   0.000000000000   0.000000000000   0.376024736486   0.000000000000   0.000000000000   0.000000000000   0.000000000000   0.000000000000   0.000000000000   \n",
      "similar \t|  0.000000000000   0.000000000000   0.000000000000   0.000000000000   0.153665537573   0.000000000000   0.000000000000   0.000000000000   0.000000000000   0.000000000000   \n",
      "sinc    \t|  0.081229229478   0.000000000000   0.000000000000   0.000000000000   0.000000000000   0.109793464333   0.000000000000   0.000000000000   0.000000000000   0.000000000000   \n",
      "singular\t|  0.000000000000   0.285818295861   0.000000000000   0.000000000000   0.000000000000   0.000000000000   0.000000000000   0.000000000000   0.000000000000   0.000000000000   \n",
      "sir     \t|  0.191107058140   0.000000000000   0.000000000000   0.000000000000   0.000000000000   0.000000000000   0.000000000000   0.000000000000   0.000000000000   0.000000000000   \n",
      "skene   \t|  0.000000000000   0.000000000000   0.000000000000   0.000000000000   0.000000000000   0.000000000000   0.000000000000   0.251725032343   0.000000000000   0.000000000000   \n",
      "sketch  \t|  0.000000000000   0.000000000000   0.000000000000   0.000000000000   0.000000000000   0.000000000000   0.000000000000   0.000000000000   0.000000000000   0.178240705119   \n",
      "son     \t|  0.000000000000   0.142909147931   0.000000000000   0.000000000000   0.000000000000   0.000000000000   0.000000000000   0.000000000000   0.000000000000   0.000000000000   \n",
      "special \t|  0.000000000000   0.000000000000   0.139288394510   0.000000000000   0.130629745817   0.000000000000   0.000000000000   0.000000000000   0.000000000000   0.000000000000   \n",
      "speech  \t|  0.000000000000   0.000000000000   0.000000000000   0.000000000000   0.130629745817   0.109793464333   0.000000000000   0.000000000000   0.000000000000   0.000000000000   \n",
      "sprang  \t|  0.000000000000   0.000000000000   0.000000000000   0.000000000000   0.000000000000   0.129154899699   0.000000000000   0.000000000000   0.000000000000   0.000000000000   \n",
      "stafford\t|  0.095553529070   0.000000000000   0.000000000000   0.000000000000   0.000000000000   0.000000000000   0.000000000000   0.000000000000   0.000000000000   0.000000000000   \n",
      "staffordshir\t|  0.095553529070   0.000000000000   0.000000000000   0.000000000000   0.000000000000   0.000000000000   0.000000000000   0.000000000000   0.000000000000   0.000000000000   \n",
      "state   \t|  0.000000000000   0.000000000000   0.278576789021   0.000000000000   0.130629745817   0.000000000000   0.000000000000   0.000000000000   0.000000000000   0.000000000000   \n",
      "statesman\t|  0.000000000000   0.000000000000   0.000000000000   0.000000000000   0.000000000000   0.129154899699   0.000000000000   0.000000000000   0.000000000000   0.000000000000   \n",
      "studi   \t|  0.000000000000   0.000000000000   0.000000000000   0.000000000000   0.000000000000   0.000000000000   0.091432823637   0.000000000000   0.099889120301   0.000000000000   \n",
      "subject \t|  0.000000000000   0.000000000000   0.000000000000   0.000000000000   0.000000000000   0.000000000000   0.107556467389   0.000000000000   0.000000000000   0.000000000000   \n",
      "suffic  \t|  0.000000000000   0.000000000000   0.000000000000   0.000000000000   0.000000000000   0.000000000000   0.000000000000   0.125862516171   0.000000000000   0.000000000000   \n",
      "sum     \t|  0.000000000000   0.142909147931   0.000000000000   0.000000000000   0.000000000000   0.000000000000   0.000000000000   0.000000000000   0.000000000000   0.000000000000   \n",
      "support \t|  0.000000000000   0.000000000000   0.000000000000   0.000000000000   0.000000000000   0.129154899699   0.000000000000   0.000000000000   0.000000000000   0.000000000000   \n",
      "suppos  \t|  0.000000000000   0.142909147931   0.000000000000   0.000000000000   0.000000000000   0.000000000000   0.000000000000   0.000000000000   0.000000000000   0.000000000000   \n",
      "sure    \t|  0.000000000000   0.121485831918   0.000000000000   0.000000000000   0.000000000000   0.000000000000   0.000000000000   0.000000000000   0.099889120301   0.000000000000   \n",
      "taken   \t|  0.000000000000   0.000000000000   0.163851088328   0.000000000000   0.000000000000   0.000000000000   0.000000000000   0.000000000000   0.000000000000   0.000000000000   \n",
      "task    \t|  0.000000000000   0.000000000000   0.000000000000   0.106551793208   0.000000000000   0.000000000000   0.091432823637   0.000000000000   0.000000000000   0.000000000000   \n",
      "tast    \t|  0.000000000000   0.000000000000   0.000000000000   0.000000000000   0.000000000000   0.000000000000   0.000000000000   0.000000000000   0.000000000000   0.089120352560   \n",
      "teach   \t|  0.000000000000   0.000000000000   0.000000000000   0.000000000000   0.000000000000   0.000000000000   0.000000000000   0.000000000000   0.117503982517   0.000000000000   \n",
      "tell    \t|  0.000000000000   0.000000000000   0.000000000000   0.000000000000   0.000000000000   0.000000000000   0.000000000000   0.125862516171   0.000000000000   0.000000000000   \n",
      "tennyson\t|  0.000000000000   0.000000000000   0.000000000000   0.000000000000   0.000000000000   0.000000000000   0.000000000000   0.000000000000   0.000000000000   0.356481410238   \n",
      "text    \t|  0.000000000000   0.000000000000   0.000000000000   0.000000000000   0.000000000000   0.000000000000   0.000000000000   0.000000000000   0.000000000000   0.089120352560   \n",
      "theme   \t|  0.000000000000   0.000000000000   0.000000000000   0.000000000000   0.000000000000   0.000000000000   0.107556467389   0.000000000000   0.000000000000   0.000000000000   \n",
      "thought \t|  0.000000000000   0.000000000000   0.000000000000   0.000000000000   0.000000000000   0.109793464333   0.000000000000   0.000000000000   0.000000000000   0.075760441709   \n"
     ]
    },
    {
     "name": "stdout",
     "output_type": "stream",
     "text": [
      "thu     \t|  0.000000000000   0.000000000000   0.000000000000   0.106551793208   0.000000000000   0.000000000000   0.000000000000   0.000000000000   0.000000000000   0.075760441709   \n",
      "told    \t|  0.000000000000   0.000000000000   0.000000000000   0.000000000000   0.000000000000   0.000000000000   0.107556467389   0.000000000000   0.000000000000   0.000000000000   \n",
      "topic   \t|  0.000000000000   0.000000000000   0.000000000000   0.000000000000   0.000000000000   0.000000000000   0.107556467389   0.000000000000   0.000000000000   0.000000000000   \n",
      "tradit  \t|  0.000000000000   0.000000000000   0.000000000000   0.000000000000   0.000000000000   0.000000000000   0.107556467389   0.000000000000   0.000000000000   0.000000000000   \n",
      "tranquil\t|  0.095553529070   0.000000000000   0.000000000000   0.000000000000   0.000000000000   0.000000000000   0.000000000000   0.000000000000   0.000000000000   0.000000000000   \n",
      "treatment\t|  0.000000000000   0.000000000000   0.000000000000   0.000000000000   0.000000000000   0.000000000000   0.107556467389   0.000000000000   0.000000000000   0.000000000000   \n",
      "tri     \t|  0.000000000000   0.000000000000   0.000000000000   0.000000000000   0.000000000000   0.000000000000   0.000000000000   0.000000000000   0.117503982517   0.000000000000   \n",
      "trust   \t|  0.000000000000   0.000000000000   0.000000000000   0.000000000000   0.000000000000   0.129154899699   0.000000000000   0.000000000000   0.000000000000   0.000000000000   \n",
      "twenti  \t|  0.000000000000   0.142909147931   0.000000000000   0.000000000000   0.000000000000   0.000000000000   0.000000000000   0.000000000000   0.000000000000   0.000000000000   \n",
      "typic   \t|  0.000000000000   0.000000000000   0.000000000000   0.000000000000   0.000000000000   0.258309799398   0.000000000000   0.000000000000   0.000000000000   0.000000000000   \n",
      "unaffect\t|  0.000000000000   0.000000000000   0.000000000000   0.000000000000   0.000000000000   0.000000000000   0.000000000000   0.000000000000   0.000000000000   0.089120352560   \n",
      "unawar  \t|  0.095553529070   0.000000000000   0.000000000000   0.000000000000   0.000000000000   0.000000000000   0.000000000000   0.000000000000   0.000000000000   0.000000000000   \n",
      "unessenti\t|  0.000000000000   0.000000000000   0.000000000000   0.000000000000   0.000000000000   0.000000000000   0.000000000000   0.000000000000   0.000000000000   0.089120352560   \n",
      "unfinish\t|  0.000000000000   0.000000000000   0.000000000000   0.093220228149   0.000000000000   0.000000000000   0.079992916337   0.093607664611   0.000000000000   0.000000000000   \n",
      "unit    \t|  0.000000000000   0.000000000000   0.327702176655   0.000000000000   0.000000000000   0.000000000000   0.000000000000   0.000000000000   0.000000000000   0.000000000000   \n",
      "unlock  \t|  0.000000000000   0.000000000000   0.000000000000   0.000000000000   0.000000000000   0.000000000000   0.000000000000   0.000000000000   0.117503982517   0.000000000000   \n",
      "usa     \t|  0.000000000000   0.000000000000   0.000000000000   0.125341578829   0.000000000000   0.000000000000   0.000000000000   0.000000000000   0.000000000000   0.000000000000   \n",
      "usual   \t|  0.000000000000   0.000000000000   0.000000000000   0.000000000000   0.000000000000   0.000000000000   0.000000000000   0.125862516171   0.000000000000   0.000000000000   \n",
      "vain    \t|  0.000000000000   0.000000000000   0.000000000000   0.125341578829   0.000000000000   0.000000000000   0.000000000000   0.000000000000   0.000000000000   0.000000000000   \n",
      "variant \t|  0.000000000000   0.000000000000   0.000000000000   0.000000000000   0.000000000000   0.000000000000   0.107556467389   0.000000000000   0.000000000000   0.000000000000   \n",
      "vast    \t|  0.000000000000   0.000000000000   0.000000000000   0.000000000000   0.000000000000   0.000000000000   0.107556467389   0.000000000000   0.000000000000   0.000000000000   \n",
      "ventur  \t|  0.000000000000   0.000000000000   0.000000000000   0.000000000000   0.000000000000   0.000000000000   0.000000000000   0.000000000000   0.000000000000   0.089120352560   \n",
      "veteran \t|  0.000000000000   0.000000000000   0.000000000000   0.000000000000   0.000000000000   0.000000000000   0.000000000000   0.000000000000   0.117503982517   0.000000000000   \n",
      "vice    \t|  0.000000000000   0.000000000000   0.000000000000   0.000000000000   0.000000000000   0.000000000000   0.000000000000   0.000000000000   0.235007965034   0.000000000000   \n",
      "vii.    \t|  0.000000000000   0.000000000000   0.000000000000   0.000000000000   0.000000000000   0.000000000000   0.000000000000   0.125862516171   0.000000000000   0.000000000000   \n",
      "virtu   \t|  0.000000000000   0.000000000000   0.000000000000   0.000000000000   0.000000000000   0.000000000000   0.000000000000   0.000000000000   0.235007965034   0.000000000000   \n",
      "vol     \t|  0.000000000000   0.000000000000   0.000000000000   0.000000000000   0.000000000000   0.000000000000   0.000000000000   0.125862516171   0.000000000000   0.000000000000   \n",
      "wait    \t|  0.000000000000   0.000000000000   0.000000000000   0.000000000000   0.153665537573   0.000000000000   0.000000000000   0.000000000000   0.000000000000   0.000000000000   \n",
      "walton  \t|  0.286660587210   0.000000000000   0.000000000000   0.000000000000   0.000000000000   0.000000000000   0.000000000000   0.000000000000   0.000000000000   0.000000000000   \n",
      "wander  \t|  0.000000000000   0.000000000000   0.000000000000   0.000000000000   0.000000000000   0.000000000000   0.000000000000   0.000000000000   0.117503982517   0.000000000000   \n",
      "washington\t|  0.000000000000   0.121485831918   0.000000000000   0.000000000000   0.000000000000   0.109793464333   0.000000000000   0.000000000000   0.000000000000   0.000000000000   \n",
      "white   \t|  0.000000000000   0.000000000000   0.000000000000   0.000000000000   0.153665537573   0.000000000000   0.000000000000   0.000000000000   0.000000000000   0.000000000000   \n",
      "wide    \t|  0.000000000000   0.000000000000   0.000000000000   0.000000000000   0.000000000000   0.000000000000   0.107556467389   0.000000000000   0.000000000000   0.000000000000   \n",
      "wish    \t|  0.000000000000   0.000000000000   0.000000000000   0.000000000000   0.130629745817   0.109793464333   0.000000000000   0.000000000000   0.000000000000   0.000000000000   \n",
      "wittic  \t|  0.000000000000   0.000000000000   0.000000000000   0.000000000000   0.000000000000   0.129154899699   0.000000000000   0.000000000000   0.000000000000   0.000000000000   \n",
      "wonder  \t|  0.000000000000   0.000000000000   0.000000000000   0.000000000000   0.000000000000   0.000000000000   0.000000000000   0.000000000000   0.117503982517   0.000000000000   \n",
      "work    \t|  0.000000000000   0.000000000000   0.000000000000   0.074430442528   0.000000000000   0.000000000000   0.063869272586   0.074739785982   0.069776314446   0.105843046518   \n",
      "world   \t|  0.000000000000   0.000000000000   0.000000000000   0.000000000000   0.000000000000   0.000000000000   0.000000000000   0.000000000000   0.235007965034   0.000000000000   \n",
      "write   \t|  0.000000000000   0.000000000000   0.000000000000   0.000000000000   0.000000000000   0.000000000000   0.000000000000   0.000000000000   0.000000000000   0.089120352560   \n",
      "written \t|  0.000000000000   0.000000000000   0.000000000000   0.000000000000   0.000000000000   0.000000000000   0.215112934778   0.000000000000   0.000000000000   0.000000000000   \n",
      "yeomen  \t|  0.095553529070   0.000000000000   0.000000000000   0.000000000000   0.000000000000   0.000000000000   0.000000000000   0.000000000000   0.000000000000   0.000000000000   \n",
      "yoxhal  \t|  0.095553529070   0.000000000000   0.000000000000   0.000000000000   0.000000000000   0.000000000000   0.000000000000   0.000000000000   0.000000000000   0.000000000000   \n",
      "\n",
      "\n",
      "\n",
      "========COSINE SIMILARITY====================================================================\n",
      "\n",
      "                   10ten.txt   1one.txt   2two.txt   3three.txt   4four.txt   5five.txt   6six.txt   7seven.txt   8eight.txt   9nine.txt   \n",
      "10ten.txt    1.00000000          0.02960460          0.02033824          0.03810499          0.01907394          0.03148955          0.02209883          0.03139780          0.00811392          0.04081481         \n",
      "1one.txt    0.02960460          1.00000000          0.02517853          0.00631635          0.02361334          0.01984686          0.00000000          0.00994916          0.02142355          0.00000000         \n",
      "2two.txt    0.02033824          0.02517853          1.00000000          0.05072172          0.16281824          0.00746227          0.00000000          0.00594315          0.00000000          0.06117916         \n",
      "3three.txt    0.03810499          0.00631635          0.05072172          1.00000000          0.07086759          0.10930570          0.04348412          0.01883539          0.03785678          0.05523442         \n",
      "4four.txt    0.01907394          0.02361334          0.16281824          0.07086759          1.00000000          0.06367654          0.02639647          0.00557370          0.04825335          0.03251543         \n",
      "5five.txt    0.03148955          0.01984686          0.00746227          0.10930570          0.06367654          1.00000000          0.03011618          0.00899161          0.05430746          0.07692549         \n",
      "6six.txt    0.02209883          0.00000000          0.00000000          0.04348412          0.02639647          0.03011618          1.00000000          0.03001804          0.01911547          0.04815211         \n",
      "7seven.txt    0.03139780          0.00994916          0.00594315          0.01883539          0.00557370          0.00899161          0.03001804          1.00000000          0.03477075          0.05150503         \n",
      "8eight.txt    0.00811392          0.02142355          0.00000000          0.03785678          0.04825335          0.05430746          0.01911547          0.03477075          1.00000000          0.08675445         \n",
      "9nine.txt    0.04081481          0.00000000          0.06117916          0.05523442          0.03251543          0.07692549          0.04815211          0.05150503          0.08675445          1.00000000         \n",
      "\n",
      "\n",
      "=============================================================================================\n",
      "\n"
     ]
    }
   ],
   "source": [
    "main()"
   ]
  },
  {
   "cell_type": "code",
   "execution_count": null,
   "metadata": {},
   "outputs": [],
   "source": []
  },
  {
   "cell_type": "code",
   "execution_count": null,
   "metadata": {},
   "outputs": [],
   "source": []
  },
  {
   "cell_type": "code",
   "execution_count": null,
   "metadata": {},
   "outputs": [],
   "source": []
  }
 ],
 "metadata": {
  "kernelspec": {
   "display_name": "Python 3",
   "language": "python",
   "name": "python3"
  },
  "language_info": {
   "codemirror_mode": {
    "name": "ipython",
    "version": 3
   },
   "file_extension": ".py",
   "mimetype": "text/x-python",
   "name": "python",
   "nbconvert_exporter": "python",
   "pygments_lexer": "ipython3",
   "version": "3.7.3"
  }
 },
 "nbformat": 4,
 "nbformat_minor": 2
}
